{
 "cells": [
  {
   "cell_type": "code",
   "execution_count": null,
   "id": "0f94c279",
   "metadata": {},
   "outputs": [],
   "source": [
    "# Imp libs:\n",
    "import numpy as np\n",
    "import pandas as pd\n",
    "import matplotlib.pyplot as plt\n",
    "import seaborn as sns\n",
    "\n",
    "# Spliting data\n",
    "from sklearn.model_selection import train_test_split,GridSearchCV\n",
    "\n",
    "# Algorithms\n",
    "from sklearn import linear_model\n",
    "from sklearn.linear_model import LogisticRegression\n",
    "from sklearn.ensemble import RandomForestClassifier\n",
    "from sklearn.metrics import confusion_matrix\n",
    "import itertools\n",
    "from sklearn.linear_model import SGDClassifier\n",
    "from sklearn.tree import DecisionTreeClassifier\n",
    "from sklearn.neighbors import KNeighborsClassifier\n",
    "from sklearn.svm import SVC, LinearSVC\n",
    "from sklearn.naive_bayes import GaussianNB\n",
    "# Importing metrics\n",
    "from sklearn.metrics import accuracy_score,confusion_matrix,classification_report\n",
    "\n",
    "from statsmodels.stats.outliers_influence import variance_inflation_factor\n",
    "\n",
    "# Removing warnings\n",
    "import warnings\n",
    "warnings.filterwarnings('ignore')\n",
    "\n",
    "%matplotlib inline"
   ]
  },
  {
   "cell_type": "code",
   "execution_count": null,
   "id": "c5e62536",
   "metadata": {},
   "outputs": [],
   "source": [
    "file_loc = 'https://raw.githubusercontent.com/dsrscientist/DSData/master/Telecom_customer_churn.csv'\n",
    "df = pd.read_csv(file_loc)"
   ]
  },
  {
   "cell_type": "code",
   "execution_count": null,
   "id": "1b010698",
   "metadata": {},
   "outputs": [],
   "source": [
    "print('First 10 rows')\n",
    "df.head(10)"
   ]
  },
  {
   "cell_type": "code",
   "execution_count": null,
   "id": "167c6911",
   "metadata": {},
   "outputs": [],
   "source": [
    "print('Last 10 rows')\n",
    "df.tail(10)"
   ]
  },
  {
   "cell_type": "code",
   "execution_count": null,
   "id": "5dfeccb3",
   "metadata": {},
   "outputs": [],
   "source": [
    "df.shape"
   ]
  },
  {
   "cell_type": "code",
   "execution_count": null,
   "id": "f588a7ce",
   "metadata": {},
   "outputs": [],
   "source": [
    "custIDsplit=[]\n",
    "custID1=[]\n",
    "custID2=[]\n",
    "\n",
    "for i in df.customerID:\n",
    "    custIDsplit.append(i.split('-'))"
   ]
  },
  {
   "cell_type": "code",
   "execution_count": null,
   "id": "e672c878",
   "metadata": {},
   "outputs": [],
   "source": [
    "custIDsplit"
   ]
  },
  {
   "cell_type": "code",
   "execution_count": null,
   "id": "e1444515",
   "metadata": {},
   "outputs": [],
   "source": [
    "len(custIDsplit)"
   ]
  },
  {
   "cell_type": "code",
   "execution_count": null,
   "id": "d9f1d19c",
   "metadata": {},
   "outputs": [],
   "source": [
    "for i in range(0,len(custIDsplit)):\n",
    "    custID1.append(custIDsplit[i][0])\n",
    "    \n",
    "len(custID1)"
   ]
  },
  {
   "cell_type": "code",
   "execution_count": null,
   "id": "10e5dd40",
   "metadata": {},
   "outputs": [],
   "source": [
    "for i in range(0,len(custIDsplit)):\n",
    "    custID2.append(custIDsplit[i][1])\n",
    "    \n",
    "len(custID2)"
   ]
  },
  {
   "cell_type": "code",
   "execution_count": null,
   "id": "b3931cc0",
   "metadata": {},
   "outputs": [],
   "source": [
    "df['CustID 2ndry']=custID2"
   ]
  },
  {
   "cell_type": "code",
   "execution_count": null,
   "id": "41c86626",
   "metadata": {},
   "outputs": [],
   "source": [
    "df['CustID Initials']=custID1"
   ]
  },
  {
   "cell_type": "code",
   "execution_count": null,
   "id": "518bacca",
   "metadata": {},
   "outputs": [],
   "source": [
    "df['CustID Initials']=df['CustID Initials'].astype('float64')"
   ]
  },
  {
   "cell_type": "code",
   "execution_count": null,
   "id": "ac46f414",
   "metadata": {},
   "outputs": [],
   "source": [
    "df.shape"
   ]
  },
  {
   "cell_type": "code",
   "execution_count": null,
   "id": "fa8ccb47",
   "metadata": {},
   "outputs": [],
   "source": [
    "df.columns"
   ]
  },
  {
   "cell_type": "code",
   "execution_count": null,
   "id": "4804cfe3",
   "metadata": {},
   "outputs": [],
   "source": [
    "df.dtypes"
   ]
  },
  {
   "cell_type": "code",
   "execution_count": null,
   "id": "76272ee1",
   "metadata": {},
   "outputs": [],
   "source": [
    "null_data = df.isnull().sum()\n",
    "null_data.sort_values(ascending=0)"
   ]
  },
  {
   "cell_type": "code",
   "execution_count": null,
   "id": "a8229359",
   "metadata": {},
   "outputs": [],
   "source": [
    "df.dtypes"
   ]
  },
  {
   "cell_type": "code",
   "execution_count": null,
   "id": "62f245ee",
   "metadata": {},
   "outputs": [],
   "source": [
    "df.drop(df.loc[df['TotalCharges']==' '].index,inplace=True)"
   ]
  },
  {
   "cell_type": "code",
   "execution_count": null,
   "id": "9da8566a",
   "metadata": {},
   "outputs": [],
   "source": [
    "df.shape"
   ]
  },
  {
   "cell_type": "code",
   "execution_count": null,
   "id": "f90719ca",
   "metadata": {},
   "outputs": [],
   "source": [
    "df['TotalCharges'] = df['TotalCharges'].astype('float64')"
   ]
  },
  {
   "cell_type": "code",
   "execution_count": null,
   "id": "f961c5f3",
   "metadata": {},
   "outputs": [],
   "source": [
    "desc = df.describe().T\n",
    "desc['range']=desc['max']-desc['min']\n",
    "desc"
   ]
  },
  {
   "cell_type": "code",
   "execution_count": null,
   "id": "5d37055e",
   "metadata": {},
   "outputs": [],
   "source": [
    "df.describe(include='object').T"
   ]
  },
  {
   "cell_type": "code",
   "execution_count": null,
   "id": "3cbb9ac5",
   "metadata": {},
   "outputs": [],
   "source": [
    "desc[['min','mean','max','range']]"
   ]
  },
  {
   "cell_type": "code",
   "execution_count": null,
   "id": "41015b4f",
   "metadata": {},
   "outputs": [],
   "source": [
    "cont_data = df.select_dtypes(include=['int64','float64'])\n",
    "\n",
    "cat_data= df.select_dtypes(include=['object'])\n",
    "\n",
    "cont_columns = cont_data.columns\n",
    "\n",
    "cat_columns = cat_data.columns"
   ]
  },
  {
   "cell_type": "code",
   "execution_count": null,
   "id": "5a445342",
   "metadata": {},
   "outputs": [],
   "source": [
    "cont_columns"
   ]
  },
  {
   "cell_type": "code",
   "execution_count": null,
   "id": "48e60d52",
   "metadata": {},
   "outputs": [],
   "source": [
    "cat_columns"
   ]
  },
  {
   "cell_type": "code",
   "execution_count": null,
   "id": "8c3e53cb",
   "metadata": {},
   "outputs": [],
   "source": [
    "from scipy import stats\n",
    "\n",
    "for i in cat_columns:\n",
    "    print('For',i,', most frequent value is: ',stats.mode(df[i]),'\\n')"
   ]
  },
  {
   "cell_type": "code",
   "execution_count": null,
   "id": "312f0e1d",
   "metadata": {},
   "outputs": [],
   "source": [
    "for i in cat_columns:\n",
    "    print('For column',i,'unique values are: ',df[i].unique())\n",
    "    print('For column',i,'count of unique values are: ',df[i].nunique(),'\\n\\n')\n",
    "    "
   ]
  },
  {
   "cell_type": "code",
   "execution_count": null,
   "id": "5281de7c",
   "metadata": {},
   "outputs": [],
   "source": [
    "for i in cat_columns:\n",
    "    print('For column --',i,'-- value counts are: \\n',df[i].value_counts(),'\\n\\n')"
   ]
  },
  {
   "cell_type": "code",
   "execution_count": null,
   "id": "76677e77",
   "metadata": {},
   "outputs": [],
   "source": [
    "\"\"\"EXPLORATORY DATA ANALYSIS\n",
    "\n",
    "1.\n",
    "The data set contains 743 rows and 21 columns.\n",
    "\n",
    "From these 21 columns only three columns are of numerical data types and rest are of object data types. \n",
    "\n",
    "customerID            object\n",
    "gender                object\n",
    "SeniorCitizen          int64\n",
    "Partner               object\n",
    "Dependents            object\n",
    "tenure                 int64\n",
    "PhoneService          object\n",
    "MultipleLines         object\n",
    "InternetService       object\n",
    "OnlineSecurity        object\n",
    "OnlineBackup          object\n",
    "DeviceProtection      object\n",
    "TechSupport           object\n",
    "StreamingTV           object\n",
    "StreamingMovies       object\n",
    "Contract              object\n",
    "PaperlessBilling      object\n",
    "PaymentMethod         object\n",
    "MonthlyCharges       float64\n",
    "TotalCharges         float64\n",
    "Churn                  int64\n",
    "Avg Charges Range     object\n",
    "CustID Initials      float64\n",
    "CustID 2ndry          object\n",
    "\n",
    "There are null values in the data set.\n",
    "\n",
    "2.ANALYSING SUMMARY DESCRIPTIVE STATISTICS OF THE DATA\n",
    "\n",
    "From the senior citizen column the minimum and maximum values are zero and one respectively that indicate whether a person \n",
    "is senior citizen or not.\n",
    "From tenure column n the range is between 1 and 72 that are minimum and maximum values. The mean value of tenure is 32.42 \n",
    "and standard deviation is 24.54 that is quite high.\n",
    "Monthly charges start from 18.25 and maximum value is 118.75. the mean and standard deviation values are 64.79 and 30.08 \n",
    "respectively. Total charges colum values very a lot that indicate presence of outliers.\n",
    "\n",
    "3.ANALYSING COLUMNS CONTAINING OBJECT DATA TYPES:\n",
    "\n",
    "Top frequency is of male gender where in the partner is no. \n",
    "For most people they have no dependents. For columns phone service and paperless billing most frequent answers are yes. \n",
    "The type of internet services fibre optic and contract type is month to month where and for most people payment method is \n",
    "electronic check type. \n",
    "For columns multiple lines online security online backup device protection tax support streaming TV streaming movies and \n",
    "values of churn the answers are no.\n",
    "\n",
    "\n",
    "4. Column Selection and Feature Engineering\n",
    "\n",
    "SELECTING COLUMNS CONTAINING CONTINUOUS DATA TYPES:\n",
    "\n",
    "Index(['SeniorCitizen', 'tenure', 'MonthlyCharges', 'TotalCharges'], dtype='object')\n",
    "\n",
    "SELECTING COLUMNS CONTAINING CATEGORICAL DATA TYPES\n",
    "\n",
    "Index(['customerID', 'gender', 'Partner', 'Dependents', 'PhoneService',\n",
    "       'MultipleLines', 'InternetService', 'OnlineSecurity', 'OnlineBackup',\n",
    "       'DeviceProtection', 'TechSupport', 'StreamingTV', 'StreamingMovies',\n",
    "       'Contract', 'PaperlessBilling', 'PaymentMethod', 'Churn'],\n",
    "      dtype='object')\n",
    "      \n",
    "5. Univariate analysis:\n",
    "\n",
    "Mode values:\n",
    "\n",
    "        For customerID , most frequent value is:  ModeResult(mode=array(['0002-ORFBO'], dtype=object), count=array([1])) \n",
    "\n",
    "        For gender , most frequent value is:  ModeResult(mode=array(['Male'], dtype=object), count=array([3549])) \n",
    "\n",
    "        For Partner , most frequent value is:  ModeResult(mode=array(['No'], dtype=object), count=array([3639])) \n",
    "\n",
    "        For Dependents , most frequent value is:  ModeResult(mode=array(['No'], dtype=object), count=array([4933])) \n",
    "\n",
    "        For PhoneService , most frequent value is:  ModeResult(mode=array(['Yes'], dtype=object), count=array([6352])) \n",
    "\n",
    "        For MultipleLines , most frequent value is:  ModeResult(mode=array(['No'], dtype=object), count=array([3385])) \n",
    "\n",
    "        For InternetService , most frequent value is:  ModeResult(mode=array(['Fiber optic'], dtype=object), count=array([3096])) \n",
    "\n",
    "        For OnlineSecurity , most frequent value is:  ModeResult(mode=array(['No'], dtype=object), count=array([3497])) \n",
    "\n",
    "        For OnlineBackup , most frequent value is:  ModeResult(mode=array(['No'], dtype=object), count=array([3087])) \n",
    "\n",
    "        For DeviceProtection , most frequent value is:  ModeResult(mode=array(['No'], dtype=object), count=array([3094])) \n",
    "\n",
    "        For TechSupport , most frequent value is:  ModeResult(mode=array(['No'], dtype=object), count=array([3472])) \n",
    "\n",
    "        For StreamingTV , most frequent value is:  ModeResult(mode=array(['No'], dtype=object), count=array([2809])) \n",
    "\n",
    "        For StreamingMovies , most frequent value is:  ModeResult(mode=array(['No'], dtype=object), count=array([2781])) \n",
    "\n",
    "        For Contract , most frequent value is:  ModeResult(mode=array(['Month-to-month'], dtype=object), count=array([3875])) \n",
    "\n",
    "        For PaperlessBilling , most frequent value is:  ModeResult(mode=array(['Yes'], dtype=object), count=array([4168])) \n",
    "\n",
    "        For PaymentMethod , most frequent value is:  ModeResult(mode=array(['Electronic check'], dtype=object), count=array([2365])) \n",
    "\n",
    "        For Churn , most frequent value is:  ModeResult(mode=array(['No'], dtype=object), count=array([5163])) \n",
    "\n",
    "\n",
    "ANALYSING UNIQUE VALUES IN CATEGORICAL DATA\n",
    "\n",
    "        For column customerID unique values are:  ['7590-VHVEG' '5575-GNVDE' '3668-QPYBK' ... '4801-JZAZL' '8361-LTMKD'\n",
    "         '3186-AJIEK']\n",
    "        For column customerID count of unique values are:  7032 \n",
    "\n",
    "\n",
    "        For column gender unique values are:  ['Female' 'Male']\n",
    "        For column gender count of unique values are:  2 \n",
    "\n",
    "\n",
    "        For column Partner unique values are:  ['Yes' 'No']\n",
    "        For column Partner count of unique values are:  2 \n",
    "\n",
    "\n",
    "        For column Dependents unique values are:  ['No' 'Yes']\n",
    "        For column Dependents count of unique values are:  2 \n",
    "\n",
    "\n",
    "        For column PhoneService unique values are:  ['No' 'Yes']\n",
    "        For column PhoneService count of unique values are:  2 \n",
    "\n",
    "\n",
    "        For column MultipleLines unique values are:  ['No phone service' 'No' 'Yes']\n",
    "        For column MultipleLines count of unique values are:  3 \n",
    "\n",
    "\n",
    "        For column InternetService unique values are:  ['DSL' 'Fiber optic' 'No']\n",
    "        For column InternetService count of unique values are:  3 \n",
    "\n",
    "\n",
    "        For column OnlineSecurity unique values are:  ['No' 'Yes' 'No internet service']\n",
    "        For column OnlineSecurity count of unique values are:  3 \n",
    "\n",
    "\n",
    "        For column OnlineBackup unique values are:  ['Yes' 'No' 'No internet service']\n",
    "        For column OnlineBackup count of unique values are:  3 \n",
    "\n",
    "\n",
    "        For column DeviceProtection unique values are:  ['No' 'Yes' 'No internet service']\n",
    "        For column DeviceProtection count of unique values are:  3 \n",
    "\n",
    "\n",
    "        For column TechSupport unique values are:  ['No' 'Yes' 'No internet service']\n",
    "        For column TechSupport count of unique values are:  3 \n",
    "\n",
    "\n",
    "        For column StreamingTV unique values are:  ['No' 'Yes' 'No internet service']\n",
    "        For column StreamingTV count of unique values are:  3 \n",
    "\n",
    "\n",
    "        For column StreamingMovies unique values are:  ['No' 'Yes' 'No internet service']\n",
    "        For column StreamingMovies count of unique values are:  3 \n",
    "\n",
    "\n",
    "        For column Contract unique values are:  ['Month-to-month' 'One year' 'Two year']\n",
    "        For column Contract count of unique values are:  3 \n",
    "\n",
    "\n",
    "        For column PaperlessBilling unique values are:  ['Yes' 'No']\n",
    "        For column PaperlessBilling count of unique values are:  2 \n",
    "\n",
    "\n",
    "        For column PaymentMethod unique values are:  ['Electronic check' 'Mailed check' 'Bank transfer (automatic)'\n",
    "         'Credit card (automatic)']\n",
    "        For column PaymentMethod count of unique values are:  4 \n",
    "\n",
    "\n",
    "        For column Churn unique values are:  ['No' 'Yes']\n",
    "        For column Churn count of unique values are:  2 \n",
    "\n",
    "ANALYSING VALUE COUNTS OF COLUMNS CONTAINING CATEGORICAL DATAS\n",
    "\n",
    "        For column -- customerID -- value counts are: \n",
    "         7590-VHVEG    1\n",
    "        0265-PSUAE    1\n",
    "        2956-GGUCQ    1\n",
    "        6008-NAIXK    1\n",
    "        5956-YHHRX    1\n",
    "                     ..\n",
    "        7874-ECPQJ    1\n",
    "        9796-MVYXX    1\n",
    "        2637-FKFSY    1\n",
    "        1552-AAGRX    1\n",
    "        3186-AJIEK    1\n",
    "        Name: customerID, Length: 7032, dtype: int64 \n",
    "\n",
    "\n",
    "        For column -- gender -- value counts are: \n",
    "         Male      3549\n",
    "        Female    3483\n",
    "        Name: gender, dtype: int64 \n",
    "\n",
    "\n",
    "        For column -- Partner -- value counts are: \n",
    "         No     3639\n",
    "        Yes    3393\n",
    "        Name: Partner, dtype: int64 \n",
    "\n",
    "\n",
    "        For column -- Dependents -- value counts are: \n",
    "         No     4933\n",
    "        Yes    2099\n",
    "        Name: Dependents, dtype: int64 \n",
    "\n",
    "\n",
    "        For column -- PhoneService -- value counts are: \n",
    "         Yes    6352\n",
    "        No      680\n",
    "        Name: PhoneService, dtype: int64 \n",
    "\n",
    "\n",
    "        For column -- MultipleLines -- value counts are: \n",
    "         No                  3385\n",
    "        Yes                 2967\n",
    "        No phone service     680\n",
    "        Name: MultipleLines, dtype: int64 \n",
    "\n",
    "\n",
    "        For column -- InternetService -- value counts are: \n",
    "         Fiber optic    3096\n",
    "        DSL            2416\n",
    "        No             1520\n",
    "        Name: InternetService, dtype: int64 \n",
    "\n",
    "\n",
    "        For column -- OnlineSecurity -- value counts are: \n",
    "         No                     3497\n",
    "        Yes                    2015\n",
    "        No internet service    1520\n",
    "        Name: OnlineSecurity, dtype: int64 \n",
    "\n",
    "\n",
    "        For column -- OnlineBackup -- value counts are: \n",
    "         No                     3087\n",
    "        Yes                    2425\n",
    "        No internet service    1520\n",
    "        Name: OnlineBackup, dtype: int64 \n",
    "\n",
    "\n",
    "        For column -- DeviceProtection -- value counts are: \n",
    "         No                     3094\n",
    "        Yes                    2418\n",
    "        No internet service    1520\n",
    "        Name: DeviceProtection, dtype: int64 \n",
    "\n",
    "\n",
    "        For column -- TechSupport -- value counts are: \n",
    "         No                     3472\n",
    "        Yes                    2040\n",
    "        No internet service    1520\n",
    "        Name: TechSupport, dtype: int64 \n",
    "\n",
    "\n",
    "        For column -- StreamingTV -- value counts are: \n",
    "         No                     2809\n",
    "        Yes                    2703\n",
    "        No internet service    1520\n",
    "        Name: StreamingTV, dtype: int64 \n",
    "\n",
    "\n",
    "        For column -- StreamingMovies -- value counts are: \n",
    "         No                     2781\n",
    "        Yes                    2731\n",
    "        No internet service    1520\n",
    "        Name: StreamingMovies, dtype: int64 \n",
    "\n",
    "\n",
    "        For column -- Contract -- value counts are: \n",
    "         Month-to-month    3875\n",
    "        Two year          1685\n",
    "        One year          1472\n",
    "        Name: Contract, dtype: int64 \n",
    "\n",
    "\n",
    "        For column -- PaperlessBilling -- value counts are: \n",
    "         Yes    4168\n",
    "        No     2864\n",
    "        Name: PaperlessBilling, dtype: int64 \n",
    "\n",
    "\n",
    "        For column -- PaymentMethod -- value counts are: \n",
    "         Electronic check             2365\n",
    "        Mailed check                 1604\n",
    "        Bank transfer (automatic)    1542\n",
    "        Credit card (automatic)      1521\n",
    "        Name: PaymentMethod, dtype: int64 \n",
    "\n",
    "\n",
    "        For column -- Churn -- value counts are: \n",
    "         No     5163\n",
    "        Yes    1869\n",
    "        Name: Churn, dtype: int64 \n",
    "\n",
    "\n",
    "For gender values of male and female the ratio contribution of both is quite the same.\n",
    "Out of total 4933 customers have no dependents. Phone service column data is biased and for most of the customers \n",
    "they have phone service.\n",
    "Asparas internet services concerned first comes the fibre optic then the DSL and then the no answer is selected.\n",
    "Churn customer data is also skewed as for most of the customers have been retained and are not churned.\n",
    "\n",
    "STEP 6.BIVARIATE ANALYSIS \n",
    "\n",
    "USING CAT PLOT\n",
    "\n",
    "        Most of the customers got turned and retained when they used electronic check as payment method.\n",
    "\n",
    "        For rest of the payment methods very less customers got turned as compared to those who were retained.\n",
    "\n",
    "        Mor customers got turned who choose yes for paperless billing.\n",
    "\n",
    "        Lots of customers got turned whose contract was on month to month basis and least customers got turn who \n",
    "        is contract was for 2 years.\n",
    "\n",
    "        Very less customerss got churned who obtained for no internet service as compared to those who obtained \n",
    "        for streaming movies and streaming TV Intex support and device protection.\n",
    "\n",
    "        Very less customers got churned who opted for no internet service in case of online backup and online security.\n",
    "\n",
    "        Huge percentage of customers got journed who obted for fibre optic in case of the type of internet service \n",
    "        as compared to DSL.\n",
    "\n",
    "        The number of customers are very less when they opted for no phone service in case of multiple lines. \n",
    "        The number of customers who got turned is the same whether yes or not they opted for multiple lines.\n",
    "\n",
    "        The number of accounts for both child and not joint for phone service is very less as compared to the \n",
    "        customers who opted for phone service.\n",
    "\n",
    "        The customers who had depends got less as compared to those customers who didn't had any depends and the \n",
    "        count values also less.\n",
    "\n",
    "        Customers got churned a little more when they had no partners.\n",
    "\n",
    "        For both genders turn customers percentage seems equal.\n",
    "\n",
    "        By average charges range most of the customers who got retained belong to those who had average charges \n",
    "        that is between 2000 to 6000 range.\n",
    "\n",
    "ANALYSING BOX PLOTS\n",
    "\n",
    "        Except credit card and bank transfer rush payment methods contain lots of outliers.\n",
    "\n",
    "        Customers who opted for paperless billing and didn't got churned have no outliers.\n",
    "\n",
    "        Customers having one year and 2 year contract do not contribute to outliers as oppose to the \n",
    "        customers having month to month contract.\n",
    "\n",
    "        Customers who don't have streaming movies and got turned contribute most to outliers.\n",
    "\n",
    "        Customers having no streaming TV and got turned contain most of outliers.\n",
    "\n",
    "        Most of the outliers contribution is by customers who have no tax support no device protection \n",
    "        no online backup no online security and they got churned.\n",
    "\n",
    "        Customers having different type of internet service contain outliers.\n",
    "\n",
    "        Customers who didn't opted for multiple lines and had no phone service contributed to most of outliers.\n",
    "\n",
    "        Customers who whether opted or not update the phone service got most of outliers in the churned category.\n",
    "\n",
    "USING VIOLIN PLOT TO CHECK THE PEAK VALUES OF JOINT CUSTOMERS FOR DIFFERENT CONTINUOUS COLUMNS\n",
    "\n",
    "        For total charges column since maximum density lies between rains 0 to 2000 peaks for both churned and not \n",
    "        churned customers lie within this range.\n",
    "        Customers who are opting additional features such as streaming movies streaming TV tech support device protection \n",
    "        seem to have more density and contribute to not being churned.\n",
    "\n",
    "        For females most of the customers got churned there monthly charges range between 60 to 100 while for male most \n",
    "        of the customers got churned when there monthly charges raised from 60 to 120.\n",
    "\n",
    "        For monthly charges at 20 units we can see the peak of the graph that indicates customers whether male or female \n",
    "        were not getting charned when they had monthly charges near or equal to 20.\n",
    "\n",
    "USING REGRESSION PLOT CHECKING LINEAR RELATIONSHIP BETWEEN TOTAL CHARGES, MONTHLY CHARGES AND OTHER VARIABLES\n",
    "\n",
    "        Tenure and monthly charges SIM to have positive relationship with total charges.\n",
    "\n",
    "        Similarly tenure and total charges have positive relationship with monthly charges.\n",
    "\n",
    "        Customer being senior citizen or not has more or less neutral relationship with monthly and total charges.\n",
    "\n",
    "ANALYSING HISTOGRAM FOR FREQUENCIES\n",
    "        Customer being senior citizen has very less frequency as compared to customer not being a senior citizen.\n",
    "\n",
    "        For tenure maximum frequency peaks can be seen at range 0 to 10 and 60 to 70.\n",
    "\n",
    "        For total charges maximum frequency lies in range 0 to 2000.\n",
    "\n",
    "        For monthly charges maximum frequency peak lies at 20 to 30 and 70 to 90.\n",
    "\n",
    "ANALYSING DISTRIBUTION PLOT\n",
    "\n",
    "        By distribution plot for monthly charges total charges tenure is not following normal distribution.\n",
    "\n",
    "ANALYSING OUTLIERS USING BOX PLOT \n",
    "    One outlier can be seen in senior citizen accept no other columns contain outliers.\n",
    "\n",
    "SKEWNESS VALUES\n",
    "        Skewness values for all numerical columns are within range and we can conclude that data is not skewed.\n",
    "        Senior citizen column has highest square value as we saw that it contained outlier.\n",
    "\n",
    "CORRELATION ANALYSIS AND CHECKING MULTI COLLINEARITY PROBLEM\n",
    "        Using data.corr function and heatmap we cannot that correlation coefficient values for total charges and \n",
    "            tenure column are the same does we need to proceed with checking variance inflation factor.\n",
    "        \n",
    "        Values of total charges and tenure are more than 5 does we can control that multi collinearity problem exist.\n",
    "\n",
    "FURTHER STEPS PERFORMED\n",
    "        Selection of features and target column\n",
    "        Encoding categorical columns\n",
    "        Normalising data using power transform\n",
    "        Feature selection using principle component analysis\n",
    "        Splitting training and testing data\n",
    "        Model instantiation\n",
    "        Model validation\n",
    "        Result: \n",
    "                        Training accuracy:  82.3253517649963\n",
    "                Testing accuracy:  78.11375089992801\n",
    "                Confusion matrix: \n",
    "                 [[819 207]\n",
    "                 [ 97 266]]\n",
    "                classification report:                precision    recall  f1-score   support\n",
    "\n",
    "                           0       0.89      0.80      0.84      1026\n",
    "                           1       0.56      0.73      0.64       363\n",
    "\n",
    "                    accuracy                           0.78      1389\n",
    "                   macro avg       0.73      0.77      0.74      1389\n",
    "                weighted avg       0.81      0.78      0.79      1389\n",
    "        Selecting best model and hyperparameter boosting\n",
    "        Saving the model.\n",
    "        \n",
    "\"\"\""
   ]
  },
  {
   "cell_type": "code",
   "execution_count": null,
   "id": "c8e6d502",
   "metadata": {
    "scrolled": true
   },
   "outputs": [],
   "source": [
    "# Univariate analysis:\n",
    "\n",
    "for i in cat_columns:\n",
    "    f= plt.figure(figsize=(12,5))\n",
    "    ax = sns.countplot(x=df[i],data=df)\n",
    "    plt.xticks(rotation=90)"
   ]
  },
  {
   "cell_type": "code",
   "execution_count": null,
   "id": "f891529f",
   "metadata": {},
   "outputs": [],
   "source": [
    "# PieCharts"
   ]
  },
  {
   "cell_type": "code",
   "execution_count": null,
   "id": "13bccdff",
   "metadata": {},
   "outputs": [],
   "source": [
    "for i in cat_columns:\n",
    "    df.groupby(i).size().plot(kind='pie',autopct='%.2f')\n",
    "    plt.xlabel(i)\n",
    "    plt.show()"
   ]
  },
  {
   "cell_type": "code",
   "execution_count": null,
   "id": "e1f506a6",
   "metadata": {},
   "outputs": [],
   "source": [
    "cont_columns"
   ]
  },
  {
   "cell_type": "code",
   "execution_count": null,
   "id": "6fec617b",
   "metadata": {},
   "outputs": [],
   "source": [
    "df['SeniorCitizen'].unique()"
   ]
  },
  {
   "cell_type": "code",
   "execution_count": null,
   "id": "cb397a0d",
   "metadata": {},
   "outputs": [],
   "source": [
    "cat_columns"
   ]
  },
  {
   "cell_type": "code",
   "execution_count": null,
   "id": "736a2d6e",
   "metadata": {},
   "outputs": [],
   "source": [
    "imp_cols = ['gender', 'Partner', 'Dependents', 'PhoneService',\n",
    "            'MultipleLines', 'InternetService', 'OnlineSecurity', 'OnlineBackup',\n",
    "            'DeviceProtection', 'TechSupport', 'StreamingTV', 'StreamingMovies',\n",
    "            'Contract', 'PaperlessBilling', 'PaymentMethod', 'TotalCharges']"
   ]
  },
  {
   "cell_type": "code",
   "execution_count": null,
   "id": "87ea7e9c",
   "metadata": {},
   "outputs": [],
   "source": [
    "# Checking counts btw rel and avg price by region"
   ]
  },
  {
   "cell_type": "code",
   "execution_count": null,
   "id": "b21087f6",
   "metadata": {
    "scrolled": true
   },
   "outputs": [],
   "source": [
    "f= plt.figure(figsize=(12,50))\n",
    "ax = sns.catplot(x=\"TotalCharges\", kind=\"count\",hue = 'Churn', data=df)\n",
    "plt.xticks(rotation=90)\n",
    "plt.show()"
   ]
  },
  {
   "cell_type": "code",
   "execution_count": null,
   "id": "c263db41",
   "metadata": {},
   "outputs": [],
   "source": [
    "f= plt.figure(figsize=(12,50))\n",
    "ax = sns.catplot(x=\"PaymentMethod\", kind=\"count\",hue = 'Churn', data=df)\n",
    "plt.xticks(rotation=90)\n",
    "plt.show()"
   ]
  },
  {
   "cell_type": "code",
   "execution_count": null,
   "id": "b857c0a9",
   "metadata": {},
   "outputs": [],
   "source": [
    "f= plt.figure(figsize=(12,50))\n",
    "ax = sns.catplot(x=\"PaperlessBilling\", kind=\"count\",hue = 'Churn', data=df)\n",
    "plt.xticks(rotation=90)\n",
    "plt.show()"
   ]
  },
  {
   "cell_type": "code",
   "execution_count": null,
   "id": "c26ba31b",
   "metadata": {},
   "outputs": [],
   "source": [
    "f= plt.figure(figsize=(12,50))\n",
    "ax = sns.catplot(x=\"Contract\", kind=\"count\",hue = 'Churn', data=df)\n",
    "plt.xticks(rotation=90)\n",
    "plt.show()"
   ]
  },
  {
   "cell_type": "code",
   "execution_count": null,
   "id": "a3c06ba2",
   "metadata": {},
   "outputs": [],
   "source": [
    "f= plt.figure(figsize=(12,50))\n",
    "ax = sns.catplot(x=\"StreamingMovies\", kind=\"count\",hue = 'Churn', data=df)\n",
    "plt.xticks(rotation=90)\n",
    "plt.show()"
   ]
  },
  {
   "cell_type": "code",
   "execution_count": null,
   "id": "9e7c2482",
   "metadata": {},
   "outputs": [],
   "source": [
    "f= plt.figure(figsize=(12,50))\n",
    "ax = sns.catplot(x=\"StreamingTV\", kind=\"count\",hue = 'Churn', data=df)\n",
    "plt.xticks(rotation=90)\n",
    "plt.show()"
   ]
  },
  {
   "cell_type": "code",
   "execution_count": null,
   "id": "d8fddfe8",
   "metadata": {},
   "outputs": [],
   "source": [
    "f= plt.figure(figsize=(12,50))\n",
    "ax = sns.catplot(x=\"TechSupport\", kind=\"count\",hue = 'Churn', data=df)\n",
    "plt.xticks(rotation=90)\n",
    "plt.show()"
   ]
  },
  {
   "cell_type": "code",
   "execution_count": null,
   "id": "5af47b91",
   "metadata": {},
   "outputs": [],
   "source": [
    "f= plt.figure(figsize=(12,50))\n",
    "ax = sns.catplot(x=\"DeviceProtection\", kind=\"count\",hue = 'Churn', data=df)\n",
    "plt.xticks(rotation=90)\n",
    "plt.show()"
   ]
  },
  {
   "cell_type": "code",
   "execution_count": null,
   "id": "ca70fd78",
   "metadata": {},
   "outputs": [],
   "source": [
    "f= plt.figure(figsize=(12,50))\n",
    "ax = sns.catplot(x=\"OnlineBackup\", kind=\"count\",hue = 'Churn', data=df)\n",
    "plt.xticks(rotation=90)\n",
    "plt.show()"
   ]
  },
  {
   "cell_type": "code",
   "execution_count": null,
   "id": "f2e0cdd0",
   "metadata": {},
   "outputs": [],
   "source": [
    "f= plt.figure(figsize=(12,50))\n",
    "ax = sns.catplot(x=\"OnlineSecurity\", kind=\"count\",hue = 'Churn', data=df)\n",
    "plt.xticks(rotation=90)\n",
    "plt.show()"
   ]
  },
  {
   "cell_type": "code",
   "execution_count": null,
   "id": "33961649",
   "metadata": {},
   "outputs": [],
   "source": [
    "f= plt.figure(figsize=(12,50))\n",
    "ax = sns.catplot(x=\"InternetService\", kind=\"count\",hue = 'Churn', data=df)\n",
    "plt.xticks(rotation=90)\n",
    "plt.show()"
   ]
  },
  {
   "cell_type": "code",
   "execution_count": null,
   "id": "6b9e4324",
   "metadata": {},
   "outputs": [],
   "source": [
    "f= plt.figure(figsize=(12,50))\n",
    "ax = sns.catplot(x=\"MultipleLines\", kind=\"count\",hue = 'Churn', data=df)\n",
    "plt.xticks(rotation=90)\n",
    "plt.show()"
   ]
  },
  {
   "cell_type": "code",
   "execution_count": null,
   "id": "71fcd5e2",
   "metadata": {},
   "outputs": [],
   "source": [
    "f= plt.figure(figsize=(12,50))\n",
    "ax = sns.catplot(x=\"PhoneService\", kind=\"count\",hue = 'Churn', data=df)\n",
    "plt.xticks(rotation=90)\n",
    "plt.show()"
   ]
  },
  {
   "cell_type": "code",
   "execution_count": null,
   "id": "fde24828",
   "metadata": {},
   "outputs": [],
   "source": []
  },
  {
   "cell_type": "code",
   "execution_count": null,
   "id": "533c3440",
   "metadata": {},
   "outputs": [],
   "source": [
    "f= plt.figure(figsize=(12,50))\n",
    "ax = sns.catplot(x=\"Dependents\", kind=\"count\",hue = 'Churn', data=df)\n",
    "plt.xticks(rotation=90)\n",
    "plt.show()"
   ]
  },
  {
   "cell_type": "code",
   "execution_count": null,
   "id": "2801bde3",
   "metadata": {},
   "outputs": [],
   "source": [
    "f= plt.figure(figsize=(12,50))\n",
    "ax = sns.catplot(x=\"Partner\", kind=\"count\",hue = 'Churn', data=df)\n",
    "plt.xticks(rotation=90)\n",
    "plt.show()"
   ]
  },
  {
   "cell_type": "code",
   "execution_count": null,
   "id": "4054c8b8",
   "metadata": {},
   "outputs": [],
   "source": [
    "f= plt.figure(figsize=(12,50))\n",
    "ax = sns.catplot(x=\"gender\", kind=\"count\",hue = 'Churn', data=df)\n",
    "plt.xticks(rotation=90)\n",
    "plt.show()"
   ]
  },
  {
   "cell_type": "code",
   "execution_count": null,
   "id": "089f0ae3",
   "metadata": {},
   "outputs": [],
   "source": [
    "AvgPr = []\n",
    "for i in df.TotalCharges:\n",
    "    if i < 2000:\n",
    "        AvgPr.append('Less')\n",
    "    elif i < 6000 and i > 2000:\n",
    "        AvgPr.append('Avg')\n",
    "    else:\n",
    "        AvgPr.append('High')\n",
    "        \n",
    "df['Avg Charges Range'] = AvgPr"
   ]
  },
  {
   "cell_type": "code",
   "execution_count": null,
   "id": "fd19c3cf",
   "metadata": {},
   "outputs": [],
   "source": [
    "df['Avg Charges Range'].unique()"
   ]
  },
  {
   "cell_type": "code",
   "execution_count": null,
   "id": "90551d8d",
   "metadata": {},
   "outputs": [],
   "source": [
    "df['Avg Charges Range'].nunique()"
   ]
  },
  {
   "cell_type": "code",
   "execution_count": null,
   "id": "c54348f7",
   "metadata": {},
   "outputs": [],
   "source": [
    "df['Avg Charges Range'].value_counts()"
   ]
  },
  {
   "cell_type": "code",
   "execution_count": null,
   "id": "246707ce",
   "metadata": {},
   "outputs": [],
   "source": [
    "f= plt.figure(figsize=(12,50))\n",
    "ax = sns.catplot(x=\"Avg Charges Range\", kind=\"count\",hue = 'Churn', data=df)\n",
    "plt.xticks(rotation=90)\n",
    "plt.show()"
   ]
  },
  {
   "cell_type": "code",
   "execution_count": null,
   "id": "ee74b375",
   "metadata": {},
   "outputs": [],
   "source": [
    "cat_columns"
   ]
  },
  {
   "cell_type": "code",
   "execution_count": null,
   "id": "71c18726",
   "metadata": {},
   "outputs": [],
   "source": [
    "Analysis using box plots:"
   ]
  },
  {
   "cell_type": "code",
   "execution_count": null,
   "id": "823b3008",
   "metadata": {},
   "outputs": [],
   "source": [
    "sns.boxplot(x ='Avg Charges Range', y ='TotalCharges', data = df, hue ='Churn')"
   ]
  },
  {
   "cell_type": "code",
   "execution_count": null,
   "id": "340d8dfa",
   "metadata": {},
   "outputs": [],
   "source": [
    "sns.boxplot(x ='PaymentMethod', y ='TotalCharges', data = df, hue ='Churn')\n",
    "plt.xticks(rotation=90)"
   ]
  },
  {
   "cell_type": "code",
   "execution_count": null,
   "id": "14ddc774",
   "metadata": {},
   "outputs": [],
   "source": [
    "sns.boxplot(x ='PaperlessBilling', y ='TotalCharges', data = df, hue ='Churn')"
   ]
  },
  {
   "cell_type": "code",
   "execution_count": null,
   "id": "9a1fb713",
   "metadata": {},
   "outputs": [],
   "source": [
    "sns.boxplot(x ='Contract', y ='TotalCharges', data = df, hue ='Churn')"
   ]
  },
  {
   "cell_type": "code",
   "execution_count": null,
   "id": "58c92a69",
   "metadata": {},
   "outputs": [],
   "source": [
    "sns.boxplot(x ='StreamingMovies', y ='TotalCharges', data = df, hue ='Churn')"
   ]
  },
  {
   "cell_type": "code",
   "execution_count": null,
   "id": "fe5883e6",
   "metadata": {},
   "outputs": [],
   "source": [
    "sns.boxplot(x ='StreamingTV', y ='TotalCharges', data = df, hue ='Churn')"
   ]
  },
  {
   "cell_type": "code",
   "execution_count": null,
   "id": "e697bf75",
   "metadata": {},
   "outputs": [],
   "source": [
    "sns.boxplot(x ='TechSupport', y ='TotalCharges', data = df, hue ='Churn')"
   ]
  },
  {
   "cell_type": "code",
   "execution_count": null,
   "id": "5e70a8de",
   "metadata": {},
   "outputs": [],
   "source": [
    "sns.boxplot(x ='DeviceProtection', y ='TotalCharges', data = df, hue ='Churn')"
   ]
  },
  {
   "cell_type": "code",
   "execution_count": null,
   "id": "f881556a",
   "metadata": {},
   "outputs": [],
   "source": [
    "sns.boxplot(x ='OnlineBackup', y ='TotalCharges', data = df, hue ='Churn')"
   ]
  },
  {
   "cell_type": "code",
   "execution_count": null,
   "id": "0b466ab2",
   "metadata": {},
   "outputs": [],
   "source": [
    "sns.boxplot(x ='OnlineSecurity', y ='TotalCharges', data = df, hue ='Churn')"
   ]
  },
  {
   "cell_type": "code",
   "execution_count": null,
   "id": "1477258f",
   "metadata": {},
   "outputs": [],
   "source": [
    "sns.boxplot(x ='InternetService', y ='TotalCharges', data = df, hue ='Churn')"
   ]
  },
  {
   "cell_type": "code",
   "execution_count": null,
   "id": "4092aabc",
   "metadata": {},
   "outputs": [],
   "source": [
    "sns.boxplot(x ='MultipleLines', y ='TotalCharges', data = df, hue ='Churn')"
   ]
  },
  {
   "cell_type": "code",
   "execution_count": null,
   "id": "6c7db57c",
   "metadata": {},
   "outputs": [],
   "source": [
    "sns.boxplot(x ='PhoneService', y ='TotalCharges', data = df, hue ='Churn')"
   ]
  },
  {
   "cell_type": "code",
   "execution_count": null,
   "id": "ab5539bd",
   "metadata": {},
   "outputs": [],
   "source": [
    "sns.boxplot(x ='Dependents', y ='TotalCharges', data = df, hue ='Churn')"
   ]
  },
  {
   "cell_type": "code",
   "execution_count": null,
   "id": "8b385e0d",
   "metadata": {},
   "outputs": [],
   "source": [
    "sns.boxplot(x ='Partner', y ='TotalCharges', data = df, hue ='Churn')"
   ]
  },
  {
   "cell_type": "code",
   "execution_count": null,
   "id": "8a3bbfe2",
   "metadata": {},
   "outputs": [],
   "source": [
    "sns.boxplot(x ='gender', y ='TotalCharges', data = df, hue ='Churn')"
   ]
  },
  {
   "cell_type": "code",
   "execution_count": null,
   "id": "24c51663",
   "metadata": {},
   "outputs": [],
   "source": [
    "# Analysing outliers using violin plot\n",
    "\n",
    "cols=  ['gender', 'Partner', 'Dependents', 'PhoneService',\n",
    "       'MultipleLines', 'InternetService', 'OnlineSecurity', 'OnlineBackup',\n",
    "       'DeviceProtection', 'TechSupport', 'StreamingTV', 'StreamingMovies',\n",
    "       'Contract', 'PaperlessBilling', 'PaymentMethod']"
   ]
  },
  {
   "cell_type": "code",
   "execution_count": null,
   "id": "bbc7f233",
   "metadata": {},
   "outputs": [],
   "source": [
    "sns.violinplot(x = 'PaymentMethod' , y ='TotalCharges', data = df, hue ='Churn', split = True)"
   ]
  },
  {
   "cell_type": "code",
   "execution_count": null,
   "id": "ddad7a68",
   "metadata": {},
   "outputs": [],
   "source": [
    "sns.violinplot(x = 'Contract' , y ='TotalCharges', data = df, hue ='Churn', split = True)"
   ]
  },
  {
   "cell_type": "code",
   "execution_count": null,
   "id": "47fb5223",
   "metadata": {},
   "outputs": [],
   "source": [
    "sns.violinplot(x = 'StreamingMovies' , y ='TotalCharges', data = df, hue ='Churn', split = True)"
   ]
  },
  {
   "cell_type": "code",
   "execution_count": null,
   "id": "f891fb18",
   "metadata": {},
   "outputs": [],
   "source": [
    "sns.violinplot(x = 'StreamingTV' , y ='TotalCharges', data = df, hue ='Churn', split = True)"
   ]
  },
  {
   "cell_type": "code",
   "execution_count": null,
   "id": "7e526a8a",
   "metadata": {},
   "outputs": [],
   "source": [
    "sns.violinplot(x = 'TechSupport' , y ='TotalCharges', data = df, hue ='Churn', split = True)"
   ]
  },
  {
   "cell_type": "code",
   "execution_count": null,
   "id": "c10e4bb0",
   "metadata": {},
   "outputs": [],
   "source": [
    "sns.violinplot(x = 'DeviceProtection' , y ='TotalCharges', data = df, hue ='Churn', split = True)"
   ]
  },
  {
   "cell_type": "code",
   "execution_count": null,
   "id": "83398022",
   "metadata": {},
   "outputs": [],
   "source": [
    "sns.violinplot(x = 'OnlineBackup' , y ='TotalCharges', data = df, hue ='Churn', split = True)"
   ]
  },
  {
   "cell_type": "code",
   "execution_count": null,
   "id": "c271ea87",
   "metadata": {},
   "outputs": [],
   "source": [
    "sns.violinplot(x = 'OnlineSecurity' , y ='TotalCharges', data = df, hue ='Churn', split = True)"
   ]
  },
  {
   "cell_type": "code",
   "execution_count": null,
   "id": "26a833be",
   "metadata": {},
   "outputs": [],
   "source": [
    "sns.violinplot(x = 'InternetService' , y ='TotalCharges', data = df, hue ='Churn', split = True)"
   ]
  },
  {
   "cell_type": "code",
   "execution_count": null,
   "id": "26e9d51c",
   "metadata": {},
   "outputs": [],
   "source": [
    "sns.violinplot(x = 'MultipleLines' , y ='TotalCharges', data = df, hue ='Churn', split = True)"
   ]
  },
  {
   "cell_type": "code",
   "execution_count": null,
   "id": "58edaff1",
   "metadata": {},
   "outputs": [],
   "source": [
    "sns.violinplot(x = 'PhoneService' , y ='TotalCharges', data = df, hue ='Churn', split = True)"
   ]
  },
  {
   "cell_type": "code",
   "execution_count": null,
   "id": "ab81a1d3",
   "metadata": {},
   "outputs": [],
   "source": [
    "sns.violinplot(x = 'Dependents' , y ='TotalCharges', data = df, hue ='Churn', split = True)"
   ]
  },
  {
   "cell_type": "code",
   "execution_count": null,
   "id": "18d4cfe7",
   "metadata": {},
   "outputs": [],
   "source": [
    "sns.violinplot(x = 'Partner' , y ='TotalCharges', data = df, hue ='Churn', split = True)"
   ]
  },
  {
   "cell_type": "code",
   "execution_count": null,
   "id": "3cf82a32",
   "metadata": {},
   "outputs": [],
   "source": [
    "sns.violinplot(x = 'gender' , y ='TotalCharges', data = df, hue ='Churn', split = True)"
   ]
  },
  {
   "cell_type": "code",
   "execution_count": null,
   "id": "f25354b6",
   "metadata": {},
   "outputs": [],
   "source": [
    "# Monthly charges:"
   ]
  },
  {
   "cell_type": "code",
   "execution_count": null,
   "id": "6a79986d",
   "metadata": {},
   "outputs": [],
   "source": [
    "cont_columns"
   ]
  },
  {
   "cell_type": "code",
   "execution_count": null,
   "id": "195c5682",
   "metadata": {},
   "outputs": [],
   "source": [
    "cols"
   ]
  },
  {
   "cell_type": "code",
   "execution_count": null,
   "id": "7db9a358",
   "metadata": {},
   "outputs": [],
   "source": [
    "sns.violinplot(x = 'gender' , y ='MonthlyCharges', data = df, hue ='Churn', split = True)"
   ]
  },
  {
   "cell_type": "code",
   "execution_count": null,
   "id": "64fd9b26",
   "metadata": {},
   "outputs": [],
   "source": [
    "sns.violinplot(x = 'Partner' , y ='MonthlyCharges', data = df, hue ='Churn', split = True)"
   ]
  },
  {
   "cell_type": "code",
   "execution_count": null,
   "id": "1018efd7",
   "metadata": {},
   "outputs": [],
   "source": [
    "sns.violinplot(x = 'Dependents' , y ='MonthlyCharges', data = df, hue ='Churn', split = True)"
   ]
  },
  {
   "cell_type": "code",
   "execution_count": null,
   "id": "62e1c637",
   "metadata": {},
   "outputs": [],
   "source": [
    "sns.violinplot(x = 'PhoneService' , y ='MonthlyCharges', data = df, hue ='Churn', split = True)"
   ]
  },
  {
   "cell_type": "code",
   "execution_count": null,
   "id": "613e8e3c",
   "metadata": {},
   "outputs": [],
   "source": [
    "sns.violinplot(x = 'MultipleLines' , y ='MonthlyCharges', data = df, hue ='Churn', split = True)"
   ]
  },
  {
   "cell_type": "code",
   "execution_count": null,
   "id": "58d53013",
   "metadata": {},
   "outputs": [],
   "source": [
    "sns.violinplot(x = 'InternetService' , y ='MonthlyCharges', data = df, hue ='Churn', split = True)"
   ]
  },
  {
   "cell_type": "code",
   "execution_count": null,
   "id": "7c0286ff",
   "metadata": {},
   "outputs": [],
   "source": [
    "sns.violinplot(x = 'OnlineSecurity' , y ='MonthlyCharges', data = df, hue ='Churn', split = True)"
   ]
  },
  {
   "cell_type": "code",
   "execution_count": null,
   "id": "c4631590",
   "metadata": {},
   "outputs": [],
   "source": [
    "sns.violinplot(x = 'DeviceProtection' , y ='MonthlyCharges', data = df, hue ='Churn', split = True)"
   ]
  },
  {
   "cell_type": "code",
   "execution_count": null,
   "id": "dd2cda1b",
   "metadata": {},
   "outputs": [],
   "source": [
    "sns.violinplot(x = 'TechSupport' , y ='MonthlyCharges', data = df, hue ='Churn', split = True)"
   ]
  },
  {
   "cell_type": "code",
   "execution_count": null,
   "id": "2961aa80",
   "metadata": {},
   "outputs": [],
   "source": [
    "sns.violinplot(x = 'StreamingTV' , y ='MonthlyCharges', data = df, hue ='Churn', split = True)"
   ]
  },
  {
   "cell_type": "code",
   "execution_count": null,
   "id": "2cb70c06",
   "metadata": {},
   "outputs": [],
   "source": [
    "sns.violinplot(x = 'StreamingMovies' , y ='MonthlyCharges', data = df, hue ='Churn', split = True)"
   ]
  },
  {
   "cell_type": "code",
   "execution_count": null,
   "id": "3ca790e5",
   "metadata": {},
   "outputs": [],
   "source": [
    "sns.violinplot(x = 'Contract' , y ='MonthlyCharges', data = df, hue ='Churn', split = True)"
   ]
  },
  {
   "cell_type": "code",
   "execution_count": null,
   "id": "3aa5a75b",
   "metadata": {},
   "outputs": [],
   "source": [
    "sns.violinplot(x = 'PaperlessBilling' , y ='MonthlyCharges', data = df, hue ='Churn', split = True)"
   ]
  },
  {
   "cell_type": "code",
   "execution_count": null,
   "id": "854bb4a3",
   "metadata": {},
   "outputs": [],
   "source": [
    "sns.violinplot(x = 'PaymentMethod' , y ='MonthlyCharges', data = df, hue ='Churn', split = True)"
   ]
  },
  {
   "cell_type": "code",
   "execution_count": null,
   "id": "bbab2979",
   "metadata": {},
   "outputs": [],
   "source": [
    "cont_columns"
   ]
  },
  {
   "cell_type": "code",
   "execution_count": null,
   "id": "fe076c93",
   "metadata": {},
   "outputs": [],
   "source": [
    "cat_columns"
   ]
  },
  {
   "cell_type": "code",
   "execution_count": null,
   "id": "90f61103",
   "metadata": {},
   "outputs": [],
   "source": [
    "cols"
   ]
  },
  {
   "cell_type": "code",
   "execution_count": null,
   "id": "d93a736e",
   "metadata": {},
   "outputs": [],
   "source": [
    "# Analysing through strip plots:"
   ]
  },
  {
   "cell_type": "code",
   "execution_count": null,
   "id": "a0f44e3f",
   "metadata": {},
   "outputs": [],
   "source": [
    "for i in cols:\n",
    "    sns.stripplot(x = i, y ='MonthlyCharges', data = df,jitter = True, hue ='Churn', dodge = True)\n",
    "    plt.xticks(rotation=90)\n",
    "    plt.show()"
   ]
  },
  {
   "cell_type": "code",
   "execution_count": null,
   "id": "22a88f08",
   "metadata": {},
   "outputs": [],
   "source": [
    "for i in cols:\n",
    "    sns.stripplot(x = i, y ='TotalCharges', data = df,jitter = True, hue ='Churn', dodge = True)\n",
    "    plt.xticks(rotation=90)\n",
    "    plt.show()"
   ]
  },
  {
   "cell_type": "code",
   "execution_count": null,
   "id": "b6ab3c07",
   "metadata": {},
   "outputs": [],
   "source": [
    "# Now using swarm plot:\n",
    "\n",
    "for i in cols:\n",
    "    sns.swarmplot(x = i, y ='MonthlyCharges', data = df, hue ='Churn', dodge = True)\n",
    "    plt.xticks(rotation=90)\n",
    "    plt.show()"
   ]
  },
  {
   "cell_type": "code",
   "execution_count": null,
   "id": "fcd3dd6f",
   "metadata": {},
   "outputs": [],
   "source": [
    "for i in cols:\n",
    "    sns.swarmplot(x = i, y ='TotalCharges', data = df,hue ='Churn', dodge = True)\n",
    "    plt.xticks(rotation=90)\n",
    "    plt.show()"
   ]
  },
  {
   "cell_type": "markdown",
   "id": "cbc3ee42",
   "metadata": {},
   "source": [
    "# Analysing numerical columns"
   ]
  },
  {
   "cell_type": "code",
   "execution_count": null,
   "id": "c5098e7f",
   "metadata": {},
   "outputs": [],
   "source": [
    "for i in ['SeniorCitizen', 'tenure', 'MonthlyCharges','TotalCharges']:\n",
    "    sns.scatterplot(x = df.index, y = i, data = df,hue='Churn')\n",
    "    plt.xticks(rotation=90)\n",
    "    plt.show()"
   ]
  },
  {
   "cell_type": "code",
   "execution_count": null,
   "id": "7bb23a31",
   "metadata": {},
   "outputs": [],
   "source": [
    "for i in ['SeniorCitizen', 'tenure', 'MonthlyCharges','TotalCharges']:\n",
    "    sns.lineplot(x = df.index, y = i, data = df,hue='Churn')\n",
    "    plt.xticks(rotation=90)\n",
    "    plt.show()"
   ]
  },
  {
   "cell_type": "markdown",
   "id": "d513d7d0",
   "metadata": {},
   "source": [
    "# Analysing relationships"
   ]
  },
  {
   "cell_type": "code",
   "execution_count": null,
   "id": "aa8b3064",
   "metadata": {},
   "outputs": [],
   "source": [
    "for i in cols:\n",
    "    sns.relplot(x = i, y = 'MonthlyCharges', data = df,hue='Churn')\n",
    "    plt.xticks(rotation=90)\n",
    "    plt.show()"
   ]
  },
  {
   "cell_type": "code",
   "execution_count": null,
   "id": "0517ecf9",
   "metadata": {},
   "outputs": [],
   "source": [
    "for i in cols:\n",
    "    sns.relplot(x = i, y = 'TotalCharges', data = df,hue='Churn')\n",
    "    plt.xticks(rotation=90)\n",
    "    plt.show()"
   ]
  },
  {
   "cell_type": "code",
   "execution_count": null,
   "id": "0ef766cc",
   "metadata": {},
   "outputs": [],
   "source": [
    "for i in ['SeniorCitizen', 'tenure', 'MonthlyCharges']:\n",
    "    sns.relplot(x = i, y = 'TotalCharges', data = df,hue='Churn')\n",
    "    plt.xticks(rotation=90)\n",
    "    plt.show()"
   ]
  },
  {
   "cell_type": "code",
   "execution_count": null,
   "id": "e314e4ff",
   "metadata": {},
   "outputs": [],
   "source": [
    "for i in ['SeniorCitizen', 'tenure', 'TotalCharges']:\n",
    "    sns.relplot(x = i, y = 'MonthlyCharges', data = df,hue='Churn')\n",
    "    plt.xticks(rotation=90)\n",
    "    plt.show()"
   ]
  },
  {
   "cell_type": "code",
   "execution_count": null,
   "id": "bb0c5549",
   "metadata": {},
   "outputs": [],
   "source": [
    "sns.relplot(\n",
    "    data=df, kind=\"line\",\n",
    "    x=\"TotalCharges\", y=\"MonthlyCharges\", hue=df['gender']\n",
    ")"
   ]
  },
  {
   "cell_type": "code",
   "execution_count": null,
   "id": "ea473aab",
   "metadata": {},
   "outputs": [],
   "source": [
    "for i in cont_columns:\n",
    "    sns.regplot(x = i, y = 'TotalCharges', data = df,scatter_kws={\"color\": \"black\"}, line_kws={\"color\": \"red\"})\n",
    "    plt.xticks(rotation=90)\n",
    "    plt.show()"
   ]
  },
  {
   "cell_type": "code",
   "execution_count": null,
   "id": "df630b18",
   "metadata": {},
   "outputs": [],
   "source": [
    "for i in cont_columns:\n",
    "    sns.regplot(x = i, y = 'MonthlyCharges', data = df,scatter_kws={\"color\": \"black\"}, line_kws={\"color\": \"red\"})\n",
    "    plt.xticks(rotation=90)\n",
    "    plt.show()"
   ]
  },
  {
   "cell_type": "code",
   "execution_count": null,
   "id": "d2ca3a85",
   "metadata": {},
   "outputs": [],
   "source": [
    "for i in cont_columns:\n",
    "    sns.lmplot(x = i, y = 'MonthlyCharges',hue='Churn', data=df, palette='Set2', height=8, aspect=1.2)\n",
    "    plt.xticks(rotation=90)\n",
    "    plt.show()"
   ]
  },
  {
   "cell_type": "code",
   "execution_count": null,
   "id": "2cf746cd",
   "metadata": {},
   "outputs": [],
   "source": [
    "for i in cont_columns:\n",
    "    sns.lmplot(x = i, y = 'TotalCharges',hue='Churn', data=df, palette='Set2', height=8, aspect=1.2)\n",
    "    plt.xticks(rotation=90)\n",
    "    plt.show()"
   ]
  },
  {
   "cell_type": "markdown",
   "id": "a15cd00d",
   "metadata": {},
   "source": [
    "# Analysing data frequencies , Outliers and data distribution"
   ]
  },
  {
   "cell_type": "code",
   "execution_count": null,
   "id": "9a11d4aa",
   "metadata": {},
   "outputs": [],
   "source": [
    "# Histogram plot:\n",
    "\n",
    "for i in ['SeniorCitizen', 'tenure', 'TotalCharges','MonthlyCharges']:\n",
    "    plt.figure(figsize=(10,6),facecolor='orange')\n",
    "    plt.hist(df[i],bins=10)\n",
    "    plt.xlabel(i)\n",
    "    plt.show()"
   ]
  },
  {
   "cell_type": "code",
   "execution_count": null,
   "id": "33b88f01",
   "metadata": {},
   "outputs": [],
   "source": [
    "# Checking the distribution of continuous variables:\n",
    "\n",
    "for i in ['SeniorCitizen', 'tenure', 'TotalCharges','MonthlyCharges']:\n",
    "    plt.figure(figsize=(12,7),facecolor='orange')\n",
    "    sns.distplot(df[i])\n",
    "    plt.show()"
   ]
  },
  {
   "cell_type": "code",
   "execution_count": null,
   "id": "57c65c51",
   "metadata": {},
   "outputs": [],
   "source": [
    "# Checking the outliers in continuous variables:\n",
    "\n",
    "for i in ['SeniorCitizen', 'tenure', 'TotalCharges','MonthlyCharges']:\n",
    "    plt.figure(figsize=(12,7),facecolor='orange')\n",
    "    sns.boxplot(df[i])\n",
    "    plt.show()"
   ]
  },
  {
   "cell_type": "code",
   "execution_count": null,
   "id": "0a301ba8",
   "metadata": {},
   "outputs": [],
   "source": [
    "df.skew().sort_values()"
   ]
  },
  {
   "cell_type": "code",
   "execution_count": null,
   "id": "2c5a0713",
   "metadata": {},
   "outputs": [],
   "source": [
    "df.shape"
   ]
  },
  {
   "cell_type": "code",
   "execution_count": null,
   "id": "c8a795cc",
   "metadata": {},
   "outputs": [],
   "source": [
    "# Using Z Statistics to check and remove any more outliers:\n",
    "\n",
    "from scipy.stats import zscore\n",
    "\n",
    "z_score = zscore(df[cont_columns])\n",
    "\n",
    "abs_z_score = np.abs(z_score)\n",
    "\n",
    "filtering_entry = (abs_z_score < 2.5).all(axis=1) # values lying in 3 times std will be removed\n",
    "\n",
    "df = df[filtering_entry]\n",
    "\n",
    "df.describe()"
   ]
  },
  {
   "cell_type": "code",
   "execution_count": null,
   "id": "2340081d",
   "metadata": {},
   "outputs": [],
   "source": [
    "sns.pairplot(df,hue='Churn')"
   ]
  },
  {
   "cell_type": "code",
   "execution_count": null,
   "id": "dd929011",
   "metadata": {},
   "outputs": [],
   "source": [
    "# Using label encoder to encode dependent variable column:\n",
    "\n",
    "# Import label encoder\n",
    "from sklearn import preprocessing\n",
    "  \n",
    "# label_encoder object knows how to understand word labels.\n",
    "label_encoder = preprocessing.LabelEncoder()\n",
    "  \n",
    "# Encode labels in column 'species'.\n",
    "df['Churn']= label_encoder.fit_transform(df['Churn'])\n",
    "  \n",
    "df['Churn'].unique()"
   ]
  },
  {
   "cell_type": "code",
   "execution_count": null,
   "id": "74db1d78",
   "metadata": {},
   "outputs": [],
   "source": [
    "# Correlation between features and label:\n",
    "\n",
    "# Replacing attrition column values:\n",
    "\n",
    "df.drop(columns = 'Churn',axis = 1).corrwith(df.Churn).plot(kind='bar',grid=True,figsize=(10,7),title='corelation between features and labels')\n",
    "plt.show()"
   ]
  },
  {
   "cell_type": "code",
   "execution_count": null,
   "id": "1b18bef3",
   "metadata": {},
   "outputs": [],
   "source": [
    "# Checking relationship between independent and dependent variable:\n",
    "\n",
    "df_corr = df.corr().abs()\n",
    "plt.figure(figsize=(18,14))\n",
    "sns.heatmap(df_corr,annot=True,annot_kws={'size':10})\n",
    "plt.show()"
   ]
  },
  {
   "cell_type": "code",
   "execution_count": null,
   "id": "f03ccbe4",
   "metadata": {},
   "outputs": [],
   "source": [
    "cont_columns = ['SeniorCitizen', 'tenure', 'MonthlyCharges','TotalCharges']"
   ]
  },
  {
   "cell_type": "code",
   "execution_count": null,
   "id": "f2e36be8",
   "metadata": {},
   "outputs": [],
   "source": [
    "from statsmodels.stats.outliers_influence import variance_inflation_factor\n",
    "\n",
    "\n",
    "vif = pd.DataFrame()\n",
    "vif['vif'] = [variance_inflation_factor(df[cont_columns],i) for i in range(df[cont_columns].shape[1])]\n",
    "vif['features'] = df[cont_columns].columns\n",
    "vif"
   ]
  },
  {
   "cell_type": "code",
   "execution_count": null,
   "id": "bb3852ea",
   "metadata": {},
   "outputs": [],
   "source": [
    "cont_columns1 = ['SeniorCitizen', 'MonthlyCharges','tenure']"
   ]
  },
  {
   "cell_type": "code",
   "execution_count": null,
   "id": "3c8b5096",
   "metadata": {},
   "outputs": [],
   "source": [
    "from statsmodels.stats.outliers_influence import variance_inflation_factor\n",
    "\n",
    "\n",
    "vif = pd.DataFrame()\n",
    "vif['vif'] = [variance_inflation_factor(df[cont_columns1],i) for i in range(df[cont_columns1].shape[1])]\n",
    "vif['features'] = df[cont_columns1].columns\n",
    "vif"
   ]
  },
  {
   "cell_type": "code",
   "execution_count": null,
   "id": "89218eeb",
   "metadata": {},
   "outputs": [],
   "source": [
    "# Splitting data into features and label:\n",
    "\n",
    "y = df['Churn']\n",
    "X_old = df.drop(['Churn','TotalCharges'],axis=1)"
   ]
  },
  {
   "cell_type": "code",
   "execution_count": null,
   "id": "31becb06",
   "metadata": {},
   "outputs": [],
   "source": [
    "X_old.columns"
   ]
  },
  {
   "cell_type": "code",
   "execution_count": null,
   "id": "77415671",
   "metadata": {},
   "outputs": [],
   "source": [
    "X = pd.get_dummies(X_old)"
   ]
  },
  {
   "cell_type": "code",
   "execution_count": null,
   "id": "83d4b05e",
   "metadata": {},
   "outputs": [],
   "source": [
    "from sklearn.preprocessing import PowerTransformer\n",
    "\n",
    "pt = PowerTransformer()\n",
    "\n",
    "X_trans = pt.fit_transform(X)"
   ]
  },
  {
   "cell_type": "code",
   "execution_count": null,
   "id": "9a50e282",
   "metadata": {},
   "outputs": [],
   "source": [
    "X_trans"
   ]
  },
  {
   "cell_type": "code",
   "execution_count": null,
   "id": "a1800f8c",
   "metadata": {},
   "outputs": [],
   "source": [
    "from sklearn.decomposition import PCA\n",
    "# Using PCA i.e. Principal Component Analysis that is a diamensionallity reduction technique:\n",
    "\n",
    "pca = PCA()\n",
    "pca.fit_transform(X_trans)"
   ]
  },
  {
   "cell_type": "code",
   "execution_count": null,
   "id": "5501aca3",
   "metadata": {},
   "outputs": [],
   "source": [
    "# Using Scree Plot to identify best components:\n",
    "\n",
    "plt.figure()\n",
    "plt.plot(np.cumsum(pca.explained_variance_ratio_))\n",
    "plt.xlabel('Principal Components')\n",
    "plt.ylabel('Variance Covered')\n",
    "plt.title('PCA')\n",
    "plt.show()\n"
   ]
  },
  {
   "cell_type": "code",
   "execution_count": null,
   "id": "0de3f055",
   "metadata": {},
   "outputs": [],
   "source": [
    "# Splitting our data to training data and testing data\n",
    "# x_train,x_test,y_train,y_test\n",
    "\n",
    "X_train,X_test,y_train,y_test = train_test_split(X_trans,y,test_size=0.20,random_state=1)\n",
    "\n",
    "# Here we are keeping training data as our scalled data and testing data as our label or target."
   ]
  },
  {
   "cell_type": "code",
   "execution_count": null,
   "id": "6ee8eb69",
   "metadata": {},
   "outputs": [],
   "source": [
    "from imblearn.over_sampling import SMOTE\n",
    "\n",
    "from sklearn.model_selection import train_test_split\n",
    "\n",
    "print(\"Number transactions X_train dataset: \", X_train.shape)\n",
    "print(\"Number transactions y_train dataset: \", y_train.shape)\n",
    "print(\"Number transactions X_test dataset: \", X_test.shape)\n",
    "print(\"Number transactions y_test dataset: \", y_test.shape)"
   ]
  },
  {
   "cell_type": "code",
   "execution_count": null,
   "id": "a7806c82",
   "metadata": {},
   "outputs": [],
   "source": [
    "print(\"Before OverSampling, counts of label '1': {}\".format(sum(y_train==1)))\n",
    "print(\"Before OverSampling, counts of label '0': {} \\n\".format(sum(y_train==0)))\n",
    "\n",
    "sm = SMOTE(random_state=2)\n",
    "X_train_res, y_train_res = sm.fit_resample(X_train, y_train.ravel())\n",
    "\n",
    "print('After OverSampling, the shape of train_X: {}'.format(X_train_res.shape))\n",
    "print('After OverSampling, the shape of train_y: {} \\n'.format(y_train_res.shape))\n",
    "\n",
    "print(\"After OverSampling, counts of label '1': {}\".format(sum(y_train_res==1)))\n",
    "print(\"After OverSampling, counts of label '0': {}\".format(sum(y_train_res==0)))"
   ]
  },
  {
   "cell_type": "code",
   "execution_count": null,
   "id": "ce881e60",
   "metadata": {},
   "outputs": [],
   "source": [
    "arr = np.array(y_train_res)\n",
    "\n",
    "un, co = np.unique(arr,return_counts=True)\n",
    "\n",
    "dict(zip(un,co))"
   ]
  },
  {
   "cell_type": "code",
   "execution_count": null,
   "id": "8dc04989",
   "metadata": {},
   "outputs": [],
   "source": [
    "# Logistic Regression:\n",
    "\n",
    "log_reg = LogisticRegression(random_state=1)\n",
    "\n",
    "log_reg.fit(X_train_res,y_train_res) \n",
    "\n",
    "pred_train = log_reg.predict(X_train_res)\n",
    "\n",
    "y_pred = log_reg.predict(X_test)\n",
    "\n",
    "acc = accuracy_score(y_test,y_pred)\n",
    "\n",
    "confusion_mat = confusion_matrix(y_test,y_pred)\n",
    "\n",
    "print('Confusion matrix: \\n',confusion_mat)\n",
    "\n",
    "clr = classification_report(y_test,y_pred)\n",
    "\n",
    "print('classification report: ' ,clr)"
   ]
  },
  {
   "cell_type": "code",
   "execution_count": null,
   "id": "028453ad",
   "metadata": {},
   "outputs": [],
   "source": [
    "# Best result for Decision Tree Classifier:\n",
    "\n",
    "dtc = DecisionTreeClassifier(random_state=1)\n",
    "dtc.fit(X_train_res,y_train_res) \n",
    "pred_train_dtc = dtc.predict(X_train_res)\n",
    "y_pred = dtc.predict(X_test)\n",
    "acc = accuracy_score(y_test,y_pred)\n",
    "print('Training accuracy: ', accuracy_score(y_train_res,pred_train_dtc)*100)\n",
    "print('Testing accuracy: ', acc*100)\n",
    "confusion_mat = confusion_matrix(y_test,y_pred)\n",
    "print('Confusion matrix: \\n',confusion_mat)\n",
    "clr = classification_report(y_test,y_pred)\n",
    "print('classification report: ' ,clr)"
   ]
  },
  {
   "cell_type": "code",
   "execution_count": null,
   "id": "4a6da0e4",
   "metadata": {},
   "outputs": [],
   "source": [
    "# Random forrest classifier model:\n",
    "\n",
    "rfc_f = RandomForestClassifier()\n",
    "rfc_f.fit(X_train_res,y_train_res) \n",
    "pred_train_rfc_f = rfc_f.predict(X_train_res)\n",
    "y_pred = rfc_f.predict(X_test)\n",
    "acc = accuracy_score(y_test,y_pred)\n",
    "print('Training accuracy: ', accuracy_score(y_train_res,pred_train_rfc_f)*100)\n",
    "print('Testing accuracy: ', acc*100)\n",
    "confusion_mat = confusion_matrix(y_test,y_pred)\n",
    "print('Confusion matrix: \\n',confusion_mat)\n",
    "clr = classification_report(y_test,y_pred)\n",
    "print('classification report: ' ,clr)"
   ]
  },
  {
   "cell_type": "code",
   "execution_count": null,
   "id": "6d0b6968",
   "metadata": {},
   "outputs": [],
   "source": [
    "# Using best parameters for improved score:\n",
    "\n",
    "svc = SVC()\n",
    "\n",
    "svc.fit(X_train_res,y_train_res)\n",
    "\n",
    "pred_train_svc = svc.predict(X_train_res)\n",
    "y_pred = svc.predict(X_test)\n",
    "acc = accuracy_score(y_test,y_pred)\n",
    "print('Training accuracy: ', accuracy_score(y_train_res,pred_train_svc)*100)\n",
    "print('Testing accuracy: ', acc*100)\n",
    "confusion_mat = confusion_matrix(y_test,y_pred)\n",
    "print('Confusion matrix: \\n',confusion_mat)\n",
    "clr = classification_report(y_test,y_pred)\n",
    "print('classification report: ' ,clr)"
   ]
  },
  {
   "cell_type": "code",
   "execution_count": null,
   "id": "53d2d4c2",
   "metadata": {},
   "outputs": [],
   "source": [
    "# KNN classifier:\n",
    "\n",
    "knn = KNeighborsClassifier()\n",
    "knn.fit(X_train_res,y_train_res) \n",
    "pred_train_knn = knn.predict(X_train_res)\n",
    "y_pred = knn.predict(X_test)\n",
    "acc = accuracy_score(y_test,y_pred)\n",
    "print('Training accuracy: ', accuracy_score(y_train_res,pred_train_knn)*100)\n",
    "print('Testing accuracy: ', acc*100)"
   ]
  },
  {
   "cell_type": "code",
   "execution_count": null,
   "id": "9b59f5a9",
   "metadata": {},
   "outputs": [],
   "source": [
    "from sklearn.ensemble import GradientBoostingClassifier\n",
    "\n",
    "# GBC\n",
    "\n",
    "gbdt_clf = GradientBoostingClassifier(random_state=3)\n",
    "gbdt_clf.fit(X_train_res,y_train_res) \n",
    "pred_train_gbdt_clf = gbdt_clf.predict(X_train_res)\n",
    "y_pred = gbdt_clf.predict(X_test)\n",
    "acc = accuracy_score(y_test,y_pred)\n",
    "print('Training accuracy: ', accuracy_score(y_train_res,pred_train_gbdt_clf)*100)\n",
    "print('Testing accuracy: ', acc*100)\n",
    "confusion_mat = confusion_matrix(y_test,y_pred)\n",
    "print('Confusion matrix: \\n',confusion_mat)\n",
    "clr = classification_report(y_test,y_pred)\n",
    "print('classification report: ' ,clr)"
   ]
  },
  {
   "cell_type": "code",
   "execution_count": null,
   "id": "f251cfd4",
   "metadata": {},
   "outputs": [],
   "source": [
    "from sklearn.model_selection import KFold , cross_val_score\n",
    "k_f = KFold(n_splits =3)\n",
    "k_f"
   ]
  },
  {
   "cell_type": "code",
   "execution_count": null,
   "id": "3ee45240",
   "metadata": {},
   "outputs": [],
   "source": [
    "for train,test in k_f.split([1,2,3,4,5,6,7,8,9,10]):\n",
    "    print('train:',train,'test:',test)"
   ]
  },
  {
   "cell_type": "code",
   "execution_count": null,
   "id": "79b8498a",
   "metadata": {},
   "outputs": [],
   "source": [
    "# Cross Validation score to check if model is overfitting:\n",
    "\n",
    "cross_val_score(gbdt_clf,X_train_res,y_train_res,cv=5) # "
   ]
  },
  {
   "cell_type": "code",
   "execution_count": null,
   "id": "2204cd10",
   "metadata": {},
   "outputs": [],
   "source": [
    "cross_val_score(gbdt_clf,X_train_res,y_train_res,cv=5).mean()"
   ]
  },
  {
   "cell_type": "code",
   "execution_count": null,
   "id": "a0a76081",
   "metadata": {},
   "outputs": [],
   "source": [
    "# ADA model:\n",
    "from sklearn.ensemble import AdaBoostClassifier\n",
    "\n",
    "ada_boosted = AdaBoostClassifier()\n",
    "ada_boosted.fit(X_train_res,y_train_res)\n",
    "yb_pred = ada_boosted.predict(X_test)\n",
    "pred_train_ada = ada_boosted.predict(X_train_res)\n",
    "y_pred = ada_boosted.predict(X_test)\n",
    "acc = accuracy_score(y_test,y_pred)\n",
    "print('Training accuracy: ', accuracy_score(y_train_res,pred_train_ada)*100)\n",
    "print('Testing accuracy: ', acc*100)\n",
    "confusion_mat = confusion_matrix(y_test,y_pred)\n",
    "print('Confusion matrix: \\n',confusion_mat)\n",
    "clr = classification_report(y_test,y_pred)\n",
    "print('classification report: ' ,clr)"
   ]
  },
  {
   "cell_type": "code",
   "execution_count": null,
   "id": "50574d57",
   "metadata": {},
   "outputs": [],
   "source": [
    "# HyperParameter tuning using Randomised Search CV :\n",
    "\n",
    "from sklearn.model_selection import RandomizedSearchCV\n",
    "\n",
    "params = {'n_estimators':[47,50,60,70],'learning_rate':[0.25,0.3,0.4]}\n",
    "\n",
    "rnd = RandomizedSearchCV(ada_boosted,param_distributions=params)\n",
    "\n",
    "rnd.fit(X_train_res,y_train_res)"
   ]
  },
  {
   "cell_type": "code",
   "execution_count": null,
   "id": "45fe1e63",
   "metadata": {},
   "outputs": [],
   "source": [
    "# training a Naive Bayes classifier\n",
    "from sklearn.naive_bayes import GaussianNB\n",
    "gnb = GaussianNB().fit(X_train_res, y_train_res)\n",
    "gnb_predictions = gnb.predict(X_test)\n",
    "  \n",
    "# accuracy on X_test\n",
    "accuracy = gnb.score(X_test, y_test)\n",
    "print(accuracy)"
   ]
  },
  {
   "cell_type": "code",
   "execution_count": null,
   "id": "51a40281",
   "metadata": {},
   "outputs": [],
   "source": [
    "# Tuning best model"
   ]
  },
  {
   "cell_type": "code",
   "execution_count": null,
   "id": "5cde088b",
   "metadata": {},
   "outputs": [],
   "source": [
    "# HYPER PARAMETER TUNING:\n",
    "\n",
    "# Tuning parameters using GridSearchCV:\n",
    "\n",
    "params = {'max_depth':range(4,8),\n",
    "          'min_samples_split':range(2,8,2),\n",
    "          'learning_rate':np.arange(0.1,0.3)} # at which rate our model should learn\n",
    "\n",
    "grd = GridSearchCV(gbdt_clf,param_grid=params)\n",
    "\n",
    "grd.fit(X_train_res,y_train_res)"
   ]
  },
  {
   "cell_type": "code",
   "execution_count": null,
   "id": "ecefd692",
   "metadata": {},
   "outputs": [],
   "source": [
    "grd.best_params_"
   ]
  },
  {
   "cell_type": "code",
   "execution_count": null,
   "id": "d8840e1b",
   "metadata": {},
   "outputs": [],
   "source": [
    "# Instantiating gradient boosting classifier:\n",
    "\n",
    "gbdt_clf_f = GradientBoostingClassifier(learning_rate=0.1, max_depth=7, min_samples_split=2)\n",
    "\n",
    "# Training the model\n",
    "gbdt_clf_f.fit(x_train,y_train)"
   ]
  },
  {
   "cell_type": "code",
   "execution_count": null,
   "id": "0b554e9a",
   "metadata": {},
   "outputs": [],
   "source": [
    "# Creating pipeline:\n",
    "\n",
    "from sklearn.pipeline import Pipeline\n",
    "\n",
    "pipe1 = Pipeline([('pt',PowerTransformer()),\n",
    "                  ('pca',PCA(n_components=17000)),('base_model1',RandomForestRegressor(n_estimators = 10, random_state = 42))])\n",
    "\n",
    "pipe1.fit(X_train_res,y_train_res)\n",
    "\n",
    "y_pred = pipe.predict(X_test)\n",
    "\n",
    "accuracy_score(y_test,y_pred)\n",
    "\n",
    "# Saving regression model to pickle string\n",
    "\n",
    "import pickle \n",
    "saved_model1 = pickle.dumps(pipe1) \n",
    "pipe_pickle1 = pickle.loads(saved_model1)\n",
    "pipe_pickle1.predict(X_test) # predicting testing data\n",
    "\n"
   ]
  },
  {
   "cell_type": "code",
   "execution_count": null,
   "id": "5dd572f5",
   "metadata": {},
   "outputs": [],
   "source": []
  }
 ],
 "metadata": {
  "kernelspec": {
   "display_name": "Python 3 (ipykernel)",
   "language": "python",
   "name": "python3"
  },
  "language_info": {
   "codemirror_mode": {
    "name": "ipython",
    "version": 3
   },
   "file_extension": ".py",
   "mimetype": "text/x-python",
   "name": "python",
   "nbconvert_exporter": "python",
   "pygments_lexer": "ipython3",
   "version": "3.9.12"
  }
 },
 "nbformat": 4,
 "nbformat_minor": 5
}
