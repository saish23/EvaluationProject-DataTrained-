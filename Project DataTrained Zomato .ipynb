{
 "cells": [
  {
   "cell_type": "code",
   "execution_count": null,
   "id": "0e583259",
   "metadata": {},
   "outputs": [],
   "source": [
    "# Imp libs:\n",
    "import numpy as np\n",
    "import pandas as pd\n",
    "import matplotlib.pyplot as plt\n",
    "import seaborn as sns\n",
    "\n",
    "# Spliting data\n",
    "from sklearn.model_selection import train_test_split,GridSearchCV\n",
    "\n",
    "\n",
    "# Standardizing and Normalizing data:\n",
    "from sklearn.preprocessing import StandardScaler\n",
    "\n",
    "from sklearn.linear_model import LinearRegression\n",
    "import xgboost as xgb\n",
    "\n",
    "from sklearn import linear_model\n",
    "from sklearn.linear_model import LogisticRegression\n",
    "from sklearn.ensemble import RandomForestClassifier\n",
    "from sklearn.metrics import confusion_matrix\n",
    "import itertools\n",
    "from sklearn.linear_model import SGDClassifier\n",
    "from sklearn.tree import DecisionTreeClassifier\n",
    "from sklearn.neighbors import KNeighborsClassifier\n",
    "from sklearn.svm import SVC, LinearSVC\n",
    "from sklearn.naive_bayes import GaussianNB\n",
    "# Importing metrics\n",
    "from sklearn.metrics import accuracy_score,confusion_matrix,classification_report\n",
    "\n",
    "from statsmodels.stats.outliers_influence import variance_inflation_factor\n",
    "\n",
    "# Spliting data\n",
    "from sklearn.model_selection import train_test_split,GridSearchCV\n",
    "\n",
    "# Importing metrics\n",
    "from sklearn import metrics\n",
    "from sklearn.metrics import r2_score,mean_squared_error\n",
    "\n",
    "# Removing warnings\n",
    "import warnings\n",
    "warnings.filterwarnings('ignore')\n",
    "\n",
    "%matplotlib inline"
   ]
  },
  {
   "cell_type": "code",
   "execution_count": null,
   "id": "f770b6a6",
   "metadata": {},
   "outputs": [],
   "source": [
    "file_loc1 = r\"C:\\Users\\Lenovo\\OneDrive\\Desktop\\Zomato files\\Country-Code.xlsx\"\n",
    "df1 = pd.read_excel(file_loc1)"
   ]
  },
  {
   "cell_type": "code",
   "execution_count": null,
   "id": "a0374cd1",
   "metadata": {},
   "outputs": [],
   "source": [
    "file_loc2 = 'https://raw.githubusercontent.com/dsrscientist/dataset4/main/zomato.csv'\n",
    "df2 = pd.read_csv(file_loc2,encoding=('ISO-8859-1')) "
   ]
  },
  {
   "cell_type": "code",
   "execution_count": null,
   "id": "ff7741bb",
   "metadata": {},
   "outputs": [],
   "source": [
    "df1"
   ]
  },
  {
   "cell_type": "code",
   "execution_count": null,
   "id": "4a73ef4d",
   "metadata": {},
   "outputs": [],
   "source": [
    "df2"
   ]
  },
  {
   "cell_type": "code",
   "execution_count": null,
   "id": "80bc58c8",
   "metadata": {},
   "outputs": [],
   "source": [
    "df = pd.merge (df1,df2)"
   ]
  },
  {
   "cell_type": "code",
   "execution_count": null,
   "id": "984ce4a4",
   "metadata": {},
   "outputs": [],
   "source": [
    "df"
   ]
  },
  {
   "cell_type": "code",
   "execution_count": null,
   "id": "e8b45170",
   "metadata": {},
   "outputs": [],
   "source": [
    "df.head()"
   ]
  },
  {
   "cell_type": "code",
   "execution_count": null,
   "id": "9a91182f",
   "metadata": {},
   "outputs": [],
   "source": [
    "df.tail()"
   ]
  },
  {
   "cell_type": "code",
   "execution_count": null,
   "id": "3619d156",
   "metadata": {},
   "outputs": [],
   "source": [
    "df.shape"
   ]
  },
  {
   "cell_type": "code",
   "execution_count": null,
   "id": "400e9598",
   "metadata": {},
   "outputs": [],
   "source": [
    "df.columns"
   ]
  },
  {
   "cell_type": "code",
   "execution_count": null,
   "id": "3280bcd8",
   "metadata": {},
   "outputs": [],
   "source": [
    "df.isnull().sum()"
   ]
  },
  {
   "cell_type": "code",
   "execution_count": null,
   "id": "bad71344",
   "metadata": {},
   "outputs": [],
   "source": [
    "df.dtypes"
   ]
  },
  {
   "cell_type": "code",
   "execution_count": null,
   "id": "95937827",
   "metadata": {},
   "outputs": [],
   "source": [
    "df.duplicated()"
   ]
  },
  {
   "cell_type": "code",
   "execution_count": null,
   "id": "1223c971",
   "metadata": {},
   "outputs": [],
   "source": [
    "df.describe().T"
   ]
  },
  {
   "cell_type": "code",
   "execution_count": null,
   "id": "d297d586",
   "metadata": {},
   "outputs": [],
   "source": [
    "df.describe(include='object').T"
   ]
  },
  {
   "cell_type": "code",
   "execution_count": null,
   "id": "402f9649",
   "metadata": {},
   "outputs": [],
   "source": [
    "desc = df.describe().T\n",
    "desc['range']=desc['max']-desc['min']\n",
    "desc"
   ]
  },
  {
   "cell_type": "code",
   "execution_count": null,
   "id": "bc76044d",
   "metadata": {},
   "outputs": [],
   "source": [
    "desc[['min','mean','max','range']]"
   ]
  },
  {
   "cell_type": "code",
   "execution_count": null,
   "id": "22afb482",
   "metadata": {},
   "outputs": [],
   "source": [
    "# Feature Engineering\n",
    "\n",
    "location_specific_details = ['Country Code', 'Country', 'Currency', 'Restaurant ID', 'Restaurant Name', 'City',\n",
    "       'Address', 'Locality', 'Locality Verbose', 'Longitude', 'Latitude']\n",
    "\n",
    "restaurant_details = ['Cuisines', 'Has Table booking',\n",
    "       'Has Online delivery', 'Is delivering now', 'Switch to order menu']\n",
    "\n",
    "ratings = ['Aggregate rating', 'Rating color', 'Rating text',\n",
    "       'Votes']\n",
    "\n",
    "labels = ['Average Cost for two','Price range']"
   ]
  },
  {
   "cell_type": "code",
   "execution_count": null,
   "id": "cd9ddbe5",
   "metadata": {},
   "outputs": [],
   "source": [
    "cont_data = df.select_dtypes(include=['int64','float64'])\n",
    "\n",
    "cat_data= df.select_dtypes(include=['object'])\n",
    "\n",
    "cont_columns = cont_data.columns\n",
    "\n",
    "cat_columns = cat_data.columns"
   ]
  },
  {
   "cell_type": "code",
   "execution_count": null,
   "id": "822df22e",
   "metadata": {},
   "outputs": [],
   "source": [
    "from scipy import stats\n",
    "\n",
    "for i in cat_columns:\n",
    "    print('For',i,', most frequent value is: ',stats.mode(df[i]),'\\n\\n')"
   ]
  },
  {
   "cell_type": "code",
   "execution_count": null,
   "id": "e6f13465",
   "metadata": {},
   "outputs": [],
   "source": [
    "for i in cat_columns:\n",
    "    print('For column',i,'unique values are: ',df[i].unique(),'\\n\\n')\n",
    "    print('For column',i,'count of unique values are: ',df[i].nunique(),'\\n\\n')\n",
    "    "
   ]
  },
  {
   "cell_type": "code",
   "execution_count": null,
   "id": "05a86c11",
   "metadata": {},
   "outputs": [],
   "source": [
    "for i in cat_columns:\n",
    "    print('For column --',i,'-- value counts are: \\n',df[i].value_counts(),'\\n\\n')"
   ]
  },
  {
   "cell_type": "code",
   "execution_count": null,
   "id": "6fc02a52",
   "metadata": {},
   "outputs": [],
   "source": [
    "\"\"\"EDA:\n",
    "    \n",
    "    Size: 9551 rows × 22 columns\n",
    "    \n",
    "    Null values: \n",
    "            Country Code            0\n",
    "            Country                 0\n",
    "            Restaurant ID           0\n",
    "            Restaurant Name         0\n",
    "            City                    0\n",
    "            Address                 0\n",
    "            Locality                0\n",
    "            Locality Verbose        0\n",
    "            Longitude               0\n",
    "            Latitude                0\n",
    "            Cuisines                9\n",
    "            Average Cost for two    0\n",
    "            Currency                0\n",
    "            Has Table booking       0\n",
    "            Has Online delivery     0\n",
    "            Is delivering now       0\n",
    "            Switch to order menu    0\n",
    "            Price range             0\n",
    "            Aggregate rating        0\n",
    "            Rating color            0\n",
    "            Rating text             0\n",
    "            Votes                   0\n",
    "    \n",
    "    Dtypes:\n",
    "            Country Code              int64\n",
    "            Country                  object\n",
    "            Restaurant ID             int64\n",
    "            Restaurant Name          object\n",
    "            City                     object\n",
    "            Address                  object\n",
    "            Locality                 object\n",
    "            Locality Verbose         object\n",
    "            Longitude               float64\n",
    "            Latitude                float64\n",
    "            Cuisines                 object\n",
    "            Average Cost for two      int64\n",
    "            Currency                 object\n",
    "            Has Table booking        object\n",
    "            Has Online delivery      object\n",
    "            Is delivering now        object\n",
    "            Switch to order menu     object\n",
    "            Price range               int64\n",
    "            Aggregate rating        float64\n",
    "            Rating color             object\n",
    "            Rating text              object\n",
    "            Votes                     int64\n",
    "    \n",
    "    Column names: \n",
    "                ['Country Code', 'Country', 'Restaurant ID', 'Restaurant Name', 'City',\n",
    "                   'Address', 'Locality', 'Locality Verbose', 'Longitude', 'Latitude',\n",
    "                   'Cuisines', 'Average Cost for two', 'Currency', 'Has Table booking',\n",
    "                   'Has Online delivery', 'Is delivering now', 'Switch to order menu',\n",
    "                   'Price range', 'Aggregate rating', 'Rating color', 'Rating text',\n",
    "                   'Votes']\n",
    "    \n",
    "    #Descriptive statistics summary:\n",
    "    Average Cost for two,Votes have 0 as min value which is not possible.\n",
    "    \n",
    "    # Feature Engineering\n",
    "\n",
    "location_specific_details = ['Country Code', 'Country', 'Currency', 'Restaurant ID', 'Restaurant Name', 'City',\n",
    "       'Address', 'Locality', 'Locality Verbose', 'Longitude', 'Latitude']\n",
    "\n",
    "restaurant_details = ['Cuisines', 'Has Table booking',\n",
    "       'Has Online delivery', 'Is delivering now', 'Switch to order menu']\n",
    "\n",
    "ratings = ['Aggregate rating', 'Rating color', 'Rating text',\n",
    "       'Votes']\n",
    "\n",
    "labels = ['Average Cost for two','Price range']\n",
    "\n",
    "# Univariate analysis:\n",
    "\n",
    "For Country , most frequent value is:  ModeResult(mode=array(['India'], dtype=object), count=array([8652])) \n",
    "\n",
    "\n",
    "For Restaurant Name , most frequent value is:  ModeResult(mode=array(['Cafe Coffee Day'], dtype=object), count=array([83])) \n",
    "\n",
    "\n",
    "For City , most frequent value is:  ModeResult(mode=array(['New Delhi'], dtype=object), count=array([5473])) \n",
    "\n",
    "\n",
    "For Address , most frequent value is:  ModeResult(mode=array(['Dilli Haat, INA, New Delhi'], dtype=object), count=array([11])) \n",
    "\n",
    "\n",
    "For Locality , most frequent value is:  ModeResult(mode=array(['Connaught Place'], dtype=object), count=array([122])) \n",
    "\n",
    "\n",
    "For Locality Verbose , most frequent value is:  ModeResult(mode=array(['Connaught Place, New Delhi'], dtype=object), count=array([122])) \n",
    "\n",
    "\n",
    "For Cuisines , most frequent value is:  ModeResult(mode=array(['North Indian'], dtype=object), count=array([936])) \n",
    "\n",
    "\n",
    "For Currency , most frequent value is:  ModeResult(mode=array(['Indian Rupees(Rs.)'], dtype=object), count=array([8652])) \n",
    "\n",
    "\n",
    "For Has Table booking , most frequent value is:  ModeResult(mode=array(['No'], dtype=object), count=array([8393])) \n",
    "\n",
    "\n",
    "For Has Online delivery , most frequent value is:  ModeResult(mode=array(['No'], dtype=object), count=array([7100])) \n",
    "\n",
    "\n",
    "For Is delivering now , most frequent value is:  ModeResult(mode=array(['No'], dtype=object), count=array([9517])) \n",
    "\n",
    "\n",
    "For Switch to order menu , most frequent value is:  ModeResult(mode=array(['No'], dtype=object), count=array([9551])) \n",
    "\n",
    "\n",
    "For Rating color , most frequent value is:  ModeResult(mode=array(['Orange'], dtype=object), count=array([3737])) \n",
    "\n",
    "\n",
    "For Rating text , most frequent value is:  ModeResult(mode=array(['Average'], dtype=object), count=array([3737])) \n",
    "\n",
    "For column Country unique values are:  ['India' 'Australia' 'Brazil' 'Canada' 'Indonesia' 'New Zealand'\n",
    " 'Phillipines' 'Qatar' 'Singapore' 'South Africa' 'Sri Lanka' 'Turkey'\n",
    " 'UAE' 'United Kingdom' 'United States'] \n",
    "\n",
    "\n",
    "For column Country count of unique values are:  15 \n",
    "\n",
    "\n",
    "For column Restaurant Name unique values are:  ['Jahanpanah' 'Rangrezz Restaurant' 'Time2Eat - Mama Chicken' ...\n",
    " 'Tokyo Japanese Steak House' \"Theo Yianni's Authentic Greek Restaurant\"\n",
    " \"Fishpatrick's Crabby Cafe\"] \n",
    "\n",
    "\n",
    "For column Restaurant Name count of unique values are:  7446 \n",
    "\n",
    "\n",
    "For column City unique values are:  ['Agra' 'Ahmedabad' 'Allahabad' 'Amritsar' 'Aurangabad' 'Bangalore'\n",
    " 'Bhopal' 'Bhubaneshwar' 'Chandigarh' 'Chennai' 'Coimbatore' 'Dehradun'\n",
    " 'Faridabad' 'Ghaziabad' 'Goa' 'Gurgaon' 'Guwahati' 'Hyderabad' 'Indore'\n",
    " 'Jaipur' 'Kanpur' 'Kochi' 'Kolkata' 'Lucknow' 'Ludhiana' 'Mangalore'\n",
    " 'Mohali' 'Mumbai' 'Mysore' 'Nagpur' 'Nashik' 'New Delhi' 'Noida'\n",
    " 'Panchkula' 'Patna' 'Puducherry' 'Pune' 'Ranchi' 'Secunderabad' 'Surat'\n",
    " 'Vadodara' 'Varanasi' 'Vizag' 'Armidale' 'Balingup' 'Beechworth'\n",
    " 'Dicky Beach' 'East Ballina' 'Flaxton' 'Forrest' 'Hepburn Springs'\n",
    " 'Huskisson' 'Inverloch' 'Lakes Entrance' 'Lorn' 'Macedon' 'Mayfield'\n",
    " 'Middleton Beach' 'Montville' 'Palm Cove' 'Paynesville' 'Penola'\n",
    " 'Phillip Island' 'Tanunda' 'Trentham East' 'Victor Harbor' 'Brasí_lia'\n",
    " 'Rio de Janeiro' 'Sí£o Paulo' 'Chatham-Kent' 'Consort' 'Vineland Station'\n",
    " 'Yorkton' 'Bandung' 'Bogor' 'Jakarta' 'Tangerang' 'Auckland'\n",
    " 'Wellington City' 'Makati City' 'Mandaluyong City' 'Pasay City'\n",
    " 'Pasig City' 'Quezon City' 'San Juan City' 'Santa Rosa' 'Tagaytay City'\n",
    " 'Taguig City' 'Doha' 'Singapore' 'Cape Town' 'Inner City' 'Johannesburg'\n",
    " 'Pretoria' 'Randburg' 'Sandton' 'Colombo' 'Ankara' 'ÛÁstanbul'\n",
    " 'Abu Dhabi' 'Dubai' 'Sharjah' 'Birmingham' 'Edinburgh' 'London'\n",
    " 'Manchester' 'Albany' 'Athens' 'Augusta' 'Boise' 'Cedar Rapids/Iowa City'\n",
    " 'Clatskanie' 'Cochrane' 'Columbus' 'Dalton' 'Davenport' 'Des Moines'\n",
    " 'Dubuque' 'Fernley' 'Gainesville' 'Lakeview' 'Lincoln' 'Macon'\n",
    " 'Mc Millan' 'Miller' 'Monroe' 'Ojo Caliente' 'Orlando' 'Pensacola'\n",
    " 'Pocatello' 'Potrero' 'Princeton' 'Rest of Hawaii' 'Savannah'\n",
    " 'Sioux City' 'Tampa Bay' 'Valdosta' 'Vernonia' 'Waterloo' 'Weirton'\n",
    " 'Winchester Bay'] \n",
    "\n",
    "\n",
    "For column City count of unique values are:  141 \n",
    "\n",
    "\n",
    "For column Address unique values are:  ['E 23, Shopping Arcade, Sadar Bazaar, Agra Cantt, Agra'\n",
    " 'E-20, Shopping Arcade, Sadar Bazaar, Agra Cantt, Agra'\n",
    " 'Main Market, Sadar Bazaar, Agra Cantt, Agra' ...\n",
    " '1931 Sears Street, Waterloo, IA 50702'\n",
    " '322 American Way, Weirton, WV 26062'\n",
    " '196 Bayfront Loop, Winchester Bay, OR 97467'] \n",
    "\n",
    "\n",
    "For column Address count of unique values are:  8918 \n",
    "\n",
    "\n",
    "For column Locality unique values are:  ['Agra Cantt' 'Civil Lines' 'Courtyard by Marriott Agra, Tajganj' ...\n",
    " 'Waterloo' 'Weirton' 'Winchester Bay'] \n",
    "\n",
    "\n",
    "For column Locality count of unique values are:  1208 \n",
    "\n",
    "\n",
    "For column Locality Verbose unique values are:  ['Agra Cantt, Agra' 'Civil Lines, Agra'\n",
    " 'Courtyard by Marriott Agra, Tajganj, Agra' ... 'Waterloo, Waterloo'\n",
    " 'Weirton, Weirton' 'Winchester Bay, Winchester Bay'] \n",
    "\n",
    "\n",
    "For column Locality Verbose count of unique values are:  1265 \n",
    "\n",
    "\n",
    "For column Cuisines unique values are:  ['North Indian, Mughlai' 'North Indian' 'Rajasthani' ...\n",
    " 'Coffee and Tea, Desserts, Beverages' 'Sandwich, Sushi, Tapas'\n",
    " 'Burger, Greek, Sandwich'] \n",
    "\n",
    "\n",
    "For column Cuisines count of unique values are:  1825 \n",
    "\n",
    "\n",
    "For column Currency unique values are:  ['Indian Rupees(Rs.)' 'Dollar($)' 'Brazilian Real(R$)'\n",
    " 'Indonesian Rupiah(IDR)' 'NewZealand($)' 'Botswana Pula(P)'\n",
    " 'Qatari Rial(QR)' 'Rand(R)' 'Sri Lankan Rupee(LKR)' 'Turkish Lira(TL)'\n",
    " 'Emirati Diram(AED)' 'Pounds(\\x8c£)'] \n",
    "\n",
    "\n",
    "For column Currency count of unique values are:  12 \n",
    "\n",
    "\n",
    "For column Has Table booking unique values are:  ['No' 'Yes'] \n",
    "\n",
    "\n",
    "For column Has Table booking count of unique values are:  2 \n",
    "\n",
    "\n",
    "For column Has Online delivery unique values are:  ['No' 'Yes'] \n",
    "\n",
    "\n",
    "For column Has Online delivery count of unique values are:  2 \n",
    "\n",
    "\n",
    "For column Is delivering now unique values are:  ['No' 'Yes'] \n",
    "\n",
    "\n",
    "For column Is delivering now count of unique values are:  2 \n",
    "\n",
    "\n",
    "For column Switch to order menu unique values are:  ['No'] \n",
    "\n",
    "\n",
    "For column Switch to order menu count of unique values are:  1 \n",
    "\n",
    "\n",
    "For column Rating color unique values are:  ['Yellow' 'Green' 'Orange' 'Dark Green' 'White' 'Red'] \n",
    "\n",
    "\n",
    "For column Rating color count of unique values are:  6 \n",
    "\n",
    "\n",
    "For column Rating text unique values are:  ['Good' 'Very Good' 'Average' 'Excellent' 'Not rated' 'Poor'] \n",
    "\n",
    "\n",
    "For column Rating text count of unique values are:  6 \n",
    "\n",
    "For column -- Country -- value counts are: \n",
    " India             8652\n",
    "United States      434\n",
    "United Kingdom      80\n",
    "Brazil              60\n",
    "South Africa        60\n",
    "UAE                 60\n",
    "New Zealand         40\n",
    "Turkey              34\n",
    "Australia           24\n",
    "Phillipines         22\n",
    "Indonesia           21\n",
    "Qatar               20\n",
    "Singapore           20\n",
    "Sri Lanka           20\n",
    "Canada               4\n",
    "Name: Country, dtype: int64 \n",
    "\n",
    "\n",
    "For column -- Restaurant Name -- value counts are: \n",
    " Cafe Coffee Day                       83\n",
    "Domino's Pizza                        79\n",
    "Subway                                63\n",
    "Green Chick Chop                      51\n",
    "McDonald's                            48\n",
    "                                      ..\n",
    "Chor Bizarre - Hotel Broadway          1\n",
    "Thugs - Hotel Broadway                 1\n",
    "The Kylin Experience - Holiday Inn     1\n",
    "Cafe on 3 - Holiday Inn                1\n",
    "Fishpatrick's Crabby Cafe              1\n",
    "Name: Restaurant Name, Length: 7446, dtype: int64 \n",
    "\n",
    "\n",
    "For column -- City -- value counts are: \n",
    " New Delhi           5473\n",
    "Gurgaon             1118\n",
    "Noida               1080\n",
    "Faridabad            251\n",
    "Ghaziabad             25\n",
    "                    ... \n",
    "Vineland Station       1\n",
    "Yorkton                1\n",
    "Bandung                1\n",
    "Quezon City            1\n",
    "Winchester Bay         1\n",
    "Name: City, Length: 141, dtype: int64 \n",
    "\n",
    "\n",
    "For column -- Address -- value counts are: \n",
    " Sector 41, Noida                                                                      11\n",
    "Dilli Haat, INA, New Delhi                                                            11\n",
    "Greater Kailash (GK) 1, New Delhi                                                     10\n",
    "The Imperial, Janpath, New Delhi                                                       9\n",
    "The Lalit, Barakhamba Avenue, Barakhamba Road, New Delhi                               8\n",
    "                                                                                      ..\n",
    "G-4, Local Shopping Complex, Gujranwala Town, New Delhi                                1\n",
    "State Bank Colony, Near Nanak Piau Gurudwara, GTK Road, Gujranwala Town, New Delhi     1\n",
    "Shop 6 & 7, DDA Market, Near Pentamed Hospital, Gujranwala Town, New Delhi             1\n",
    "A-199, Gujranwala Town, New Delhi                                                      1\n",
    "196 Bayfront Loop, Winchester Bay, OR 97467                                            1\n",
    "Name: Address, Length: 8918, dtype: int64 \n",
    "\n",
    "\n",
    "For column -- Locality -- value counts are: \n",
    " Connaught Place    122\n",
    "Rajouri Garden      99\n",
    "Shahdara            87\n",
    "Defence Colony      86\n",
    "Pitampura           85\n",
    "                  ... \n",
    "Waltair Uplands      1\n",
    "Armidale             1\n",
    "Balingup             1\n",
    "Beechworth           1\n",
    "Winchester Bay       1\n",
    "Name: Locality, Length: 1208, dtype: int64 \n",
    "\n",
    "\n",
    "For column -- Locality Verbose -- value counts are: \n",
    " Connaught Place, New Delhi             122\n",
    "Rajouri Garden, New Delhi               99\n",
    "Shahdara, New Delhi                     87\n",
    "Defence Colony, New Delhi               86\n",
    "Pitampura, New Delhi                    85\n",
    "                                      ... \n",
    "Hotel Maurya, Lodipur, Patna             1\n",
    "Maurya Lok, Fraser Road Area, Patna      1\n",
    "Patliputra Colony, Patna                 1\n",
    "Heritage Town, Puducherry                1\n",
    "Winchester Bay, Winchester Bay           1\n",
    "Name: Locality Verbose, Length: 1265, dtype: int64 \n",
    "\n",
    "\n",
    "For column -- Cuisines -- value counts are: \n",
    " North Indian                                 936\n",
    "North Indian, Chinese                        511\n",
    "Fast Food                                    354\n",
    "Chinese                                      354\n",
    "North Indian, Mughlai                        334\n",
    "                                            ... \n",
    "Cafe, Mexican, Continental                     1\n",
    "North Indian, Continental, Asian, Italian      1\n",
    "Continental, Cafe                              1\n",
    "North Indian, Biryani, Mughlai                 1\n",
    "Burger, Greek, Sandwich                        1\n",
    "Name: Cuisines, Length: 1825, dtype: int64 \n",
    "\n",
    "\n",
    "For column -- Currency -- value counts are: \n",
    " Indian Rupees(Rs.)        8652\n",
    "Dollar($)                  482\n",
    "Pounds(£)                  80\n",
    "Brazilian Real(R$)          60\n",
    "Rand(R)                     60\n",
    "Emirati Diram(AED)          60\n",
    "NewZealand($)               40\n",
    "Turkish Lira(TL)            34\n",
    "Botswana Pula(P)            22\n",
    "Indonesian Rupiah(IDR)      21\n",
    "Qatari Rial(QR)             20\n",
    "Sri Lankan Rupee(LKR)       20\n",
    "Name: Currency, dtype: int64 \n",
    "\n",
    "\n",
    "For column -- Has Table booking -- value counts are: \n",
    " No     8393\n",
    "Yes    1158\n",
    "Name: Has Table booking, dtype: int64 \n",
    "\n",
    "\n",
    "For column -- Has Online delivery -- value counts are: \n",
    " No     7100\n",
    "Yes    2451\n",
    "Name: Has Online delivery, dtype: int64 \n",
    "\n",
    "\n",
    "For column -- Is delivering now -- value counts are: \n",
    " No     9517\n",
    "Yes      34\n",
    "Name: Is delivering now, dtype: int64 \n",
    "\n",
    "\n",
    "For column -- Switch to order menu -- value counts are: \n",
    " No    9551\n",
    "Name: Switch to order menu, dtype: int64 \n",
    "\n",
    "\n",
    "For column -- Rating color -- value counts are: \n",
    " Orange        3737\n",
    "White         2148\n",
    "Yellow        2100\n",
    "Green         1079\n",
    "Dark Green     301\n",
    "Red            186\n",
    "Name: Rating color, dtype: int64 \n",
    "\n",
    "\n",
    "For column -- Rating text -- value counts are: \n",
    " Average      3737\n",
    "Not rated    2148\n",
    "Good         2100\n",
    "Very Good    1079\n",
    "Excellent     301\n",
    "Poor          186\n",
    "\n",
    "Data distribution plot and histogram indicate data is highly skewed.\n",
    "\n",
    "Numirical columns contain outliers.\n",
    "\n",
    "Skewness values:  \n",
    "            Longitude              -3.729205\n",
    "            Latitude               -3.282666\n",
    "            Aggregate rating       -0.870406\n",
    "            Country Code            0.000000\n",
    "            Restaurant ID           0.118880\n",
    "            Price range             1.047122\n",
    "            Votes                   3.377989\n",
    "            Average Cost for two    3.739957\n",
    "\n",
    "# Bivariate analysis\n",
    "\n",
    "# Multivariate analysis\n",
    "\n",
    "# Feature correlation\n",
    "Country code, latitude longitude , price range and avg cost for two columns are highly correlated.\n",
    "\n",
    "# Multicolinearity problem exits \n",
    "\n",
    "# FURTHER STEPS PERFORMED\n",
    "        Selection of features and target column\n",
    "        Encoding categorical columns\n",
    "        Normalising data using power transform\n",
    "        Feature selection using principle component analysis\n",
    "        Splitting training and testing data\n",
    "        Model instantiation\n",
    "        Model validation\n",
    "        Selecting best model and hyperparameter boosting\n",
    "        Result:\n",
    "            Classification problem solution\n",
    "                We are getting best accuracy using decision tree classifier model.\n",
    "                Training acc: 100 percent\n",
    "                Testing acc: 98.8783 percent.            \n",
    "            Regression problem solution\n",
    "                Linear regression, regulatization techniques, Decision tree regressor , random forest regressor,\n",
    "                XGBoost, SVR, KNeighbours regressor model have been used to predict the best accuracy.            \n",
    "        Saving the model.\"\"\"\n",
    "    \"\"\""
   ]
  },
  {
   "cell_type": "code",
   "execution_count": null,
   "id": "22be984b",
   "metadata": {},
   "outputs": [],
   "source": [
    "df.columns"
   ]
  },
  {
   "cell_type": "code",
   "execution_count": null,
   "id": "73369f16",
   "metadata": {},
   "outputs": [],
   "source": [
    "# Grouped data analytics:"
   ]
  },
  {
   "cell_type": "markdown",
   "id": "e6f17b9c",
   "metadata": {},
   "source": [
    "### EXPLORATORY DATA ANALYSIS"
   ]
  },
  {
   "cell_type": "code",
   "execution_count": null,
   "id": "b02eedeb",
   "metadata": {
    "scrolled": false
   },
   "outputs": [],
   "source": [
    "# Histogram plot:\n",
    "\n",
    "for i in cont_columns:\n",
    "    plt.figure(figsize=(10,6),facecolor='orange')\n",
    "    plt.hist(df[i],bins=10)\n",
    "    plt.xlabel(i)\n",
    "    plt.show()"
   ]
  },
  {
   "cell_type": "code",
   "execution_count": null,
   "id": "70b7c430",
   "metadata": {},
   "outputs": [],
   "source": [
    "# Checking the distribution of continuous variables:\n",
    "\n",
    "for i in cont_columns:\n",
    "    plt.figure(figsize=(12,7),facecolor='orange')\n",
    "    sns.distplot(df[i])\n",
    "    plt.show()"
   ]
  },
  {
   "cell_type": "code",
   "execution_count": null,
   "id": "4afc3704",
   "metadata": {},
   "outputs": [],
   "source": [
    "# Checking the outliers in continuous variables:\n",
    "\n",
    "for i in cont_columns:\n",
    "    plt.figure(figsize=(12,7),facecolor='orange')\n",
    "    sns.boxplot(df[i])\n",
    "    plt.show()"
   ]
  },
  {
   "cell_type": "code",
   "execution_count": null,
   "id": "064d42c2",
   "metadata": {},
   "outputs": [],
   "source": [
    "for i in ['Locality', 'Locality Verbose', 'Longitude', 'Latitude',\n",
    "       'Cuisines', 'Average Cost for two', 'Currency', 'Has Table booking']:\n",
    "    plt.figure(figsize=(15,15))\n",
    "    plt.pie(df[i].value_counts().values, labels=df[i].value_counts().index, autopct='%.0f%%')\n",
    "    plt.xlabel(i)\n",
    "    plt.show()"
   ]
  },
  {
   "cell_type": "code",
   "execution_count": null,
   "id": "8d538102",
   "metadata": {},
   "outputs": [],
   "source": [
    "plt.figure(figsize=(15,15))\n",
    "plt.pie(df['Has Online delivery'].value_counts().values, labels=df['Has Online delivery'].value_counts().index, autopct='%.0f%%')\n",
    "plt.show()"
   ]
  },
  {
   "cell_type": "code",
   "execution_count": null,
   "id": "708ed169",
   "metadata": {},
   "outputs": [],
   "source": [
    "plt.figure(figsize=(15,15))\n",
    "plt.pie(df['Has Online delivery'].value_counts().values, labels=df['Has Online delivery'].value_counts().index, autopct='%.0f%%')\n",
    "plt.xlabel('Has Online delivery')\n",
    "plt.show()"
   ]
  },
  {
   "cell_type": "code",
   "execution_count": null,
   "id": "c9f839ad",
   "metadata": {},
   "outputs": [],
   "source": [
    "plt.figure(figsize=(15,15))\n",
    "plt.pie(df['Has Table booking'].value_counts().values, labels=df['Has Table booking'].value_counts().index, autopct='%.0f%%')\n",
    "plt.xlabel('Has Table booking')\n",
    "plt.show()"
   ]
  },
  {
   "cell_type": "code",
   "execution_count": null,
   "id": "ef564521",
   "metadata": {},
   "outputs": [],
   "source": [
    "plt.figure(figsize=(15,15))\n",
    "plt.pie(df['Has Online delivery'].value_counts().values, labels=df['Has Online delivery'].value_counts().index, autopct='%.0f%%')\n",
    "plt.xlabel('Has Online delivery')\n",
    "plt.show()"
   ]
  },
  {
   "cell_type": "code",
   "execution_count": null,
   "id": "94af5a38",
   "metadata": {},
   "outputs": [],
   "source": [
    "plt.figure(figsize=(15,15))\n",
    "plt.pie(df['Switch to order menu'].value_counts().values, labels=df['Switch to order menu'].value_counts().index, autopct='%.0f%%')\n",
    "plt.xlabel('Switch to order menu')\n",
    "plt.show()"
   ]
  },
  {
   "cell_type": "code",
   "execution_count": null,
   "id": "08b0e722",
   "metadata": {},
   "outputs": [],
   "source": [
    "plt.figure(figsize=(15,15))\n",
    "plt.pie(df['Price range'].value_counts().values, labels=df['Price range'].value_counts().index, autopct='%.0f%%')\n",
    "plt.xlabel('Price range')\n",
    "plt.show()"
   ]
  },
  {
   "cell_type": "code",
   "execution_count": null,
   "id": "9f37ec79",
   "metadata": {},
   "outputs": [],
   "source": [
    "plt.figure(figsize=(15,15))\n",
    "plt.pie(df['Aggregate rating'].value_counts().values, labels=df['Aggregate rating'].value_counts().index, autopct='%.0f%%')\n",
    "plt.xlabel('Aggregate rating')\n",
    "plt.show()"
   ]
  },
  {
   "cell_type": "code",
   "execution_count": null,
   "id": "4d94fc95",
   "metadata": {},
   "outputs": [],
   "source": [
    "plt.figure(figsize=(15,15))\n",
    "plt.pie(df['Rating text'].value_counts().values, labels=df['Rating text'].value_counts().index, autopct='%.0f%%')\n",
    "plt.show()"
   ]
  },
  {
   "cell_type": "code",
   "execution_count": null,
   "id": "bdcd5336",
   "metadata": {},
   "outputs": [],
   "source": [
    "plt.figure(figsize=(15,15))\n",
    "plt.pie(df['Has Table booking'].value_counts().values, labels=df['Has Table booking'].value_counts().index, autopct='%.0f%%')\n",
    "plt.xlabel('Has Table booking')\n",
    "plt.show()"
   ]
  },
  {
   "cell_type": "code",
   "execution_count": null,
   "id": "09c30303",
   "metadata": {},
   "outputs": [],
   "source": [
    "plt.figure(figsize=(15,15))\n",
    "plt.pie(df['Currency'].value_counts().values, labels=df['Currency'].value_counts().index, autopct='%.0f%%')\n",
    "plt.xlabel('Currency')\n",
    "plt.show()"
   ]
  },
  {
   "cell_type": "code",
   "execution_count": null,
   "id": "db4409db",
   "metadata": {},
   "outputs": [],
   "source": [
    "plt.figure(figsize=(15,15))\n",
    "plt.pie(df['Is delivering now'].value_counts().values, labels=df['Is delivering now'].value_counts().index, autopct='%.0f%%')\n",
    "plt.xlabel('Is delivering now')\n",
    "plt.show()"
   ]
  },
  {
   "cell_type": "code",
   "execution_count": null,
   "id": "a6a100d2",
   "metadata": {},
   "outputs": [],
   "source": [
    "plt.figure(figsize=(15,15))\n",
    "plt.pie(df['Rating color'].value_counts().values, labels=df['Rating color'].value_counts().index, autopct='%.0f%%')\n",
    "plt.show()"
   ]
  },
  {
   "cell_type": "code",
   "execution_count": null,
   "id": "6e5e74e9",
   "metadata": {},
   "outputs": [],
   "source": [
    "plt.figure(figsize=(15,15))\n",
    "plt.pie(df['City'].value_counts().values, labels=df['City'].value_counts().index, autopct='%.0f%%',explode=ex2)\n",
    "plt.show()"
   ]
  },
  {
   "cell_type": "code",
   "execution_count": null,
   "id": "27e477c1",
   "metadata": {},
   "outputs": [],
   "source": [
    "# Univariate analysis:\n",
    "\n",
    "explode1 = [0.1 , 0.15, 0.2 , 0.25, 0.3 , 0.35, 0.4 , 0.45, 0.5 , 0.55, 0.6 ,\n",
    "       0.65, 0.7 , 0.75, 0.89]\n",
    "\n",
    "plt.figure(figsize=(15,15))\n",
    "plt.pie(df['Country'].value_counts().values, labels=df['Country'].value_counts().index,explode=explode1, autopct='%.0f%%')\n",
    "plt.show()"
   ]
  },
  {
   "cell_type": "code",
   "execution_count": null,
   "id": "42a847f1",
   "metadata": {},
   "outputs": [],
   "source": [
    "df.columns"
   ]
  },
  {
   "cell_type": "code",
   "execution_count": null,
   "id": "70973b7d",
   "metadata": {},
   "outputs": [],
   "source": [
    "# Feature Engineering\n",
    "\n",
    "location_specific_details = ['Country Code', 'Country', 'Currency', 'Restaurant ID', 'Restaurant Name', 'City',\n",
    "       'Address', 'Locality', 'Locality Verbose', 'Longitude', 'Latitude']\n",
    "\n",
    "restaurant_details = ['Cuisines', 'Has Table booking',\n",
    "       'Has Online delivery', 'Is delivering now', 'Switch to order menu']\n",
    "\n",
    "ratings = ['Aggregate rating', 'Rating color', 'Rating text',\n",
    "       'Votes']\n",
    "\n",
    "labels = ['Average Cost for two','Price range']"
   ]
  },
  {
   "cell_type": "code",
   "execution_count": null,
   "id": "93ac06c2",
   "metadata": {},
   "outputs": [],
   "source": [
    "cat_columns"
   ]
  },
  {
   "cell_type": "code",
   "execution_count": null,
   "id": "32787cce",
   "metadata": {},
   "outputs": [],
   "source": [
    "df['Address'][0]"
   ]
  },
  {
   "cell_type": "code",
   "execution_count": null,
   "id": "c325f888",
   "metadata": {},
   "outputs": [],
   "source": [
    "df['Restaurant Name']"
   ]
  },
  {
   "cell_type": "code",
   "execution_count": null,
   "id": "7a5994d8",
   "metadata": {},
   "outputs": [],
   "source": [
    "df['Locality']"
   ]
  },
  {
   "cell_type": "code",
   "execution_count": null,
   "id": "651ef931",
   "metadata": {},
   "outputs": [],
   "source": [
    "df['Locality Verbose']"
   ]
  },
  {
   "cell_type": "code",
   "execution_count": null,
   "id": "50763be0",
   "metadata": {},
   "outputs": [],
   "source": [
    "# Catplot"
   ]
  },
  {
   "cell_type": "code",
   "execution_count": null,
   "id": "7e149595",
   "metadata": {},
   "outputs": [],
   "source": [
    "plt.figure(figsize=(15,15))\n",
    "sns.catplot(x='Rating color', kind=\"count\",hue = 'Price range', data=df)\n",
    "plt.xlabel(i)\n",
    "plt.xticks(rotation=90)\n",
    "plt.show()"
   ]
  },
  {
   "cell_type": "code",
   "execution_count": null,
   "id": "7ab3f962",
   "metadata": {},
   "outputs": [],
   "source": [
    "plt.figure(figsize=(15,15))\n",
    "sns.catplot(x='Rating text', kind=\"count\",hue = 'Price range', data=df)\n",
    "plt.xlabel(i)\n",
    "plt.xticks(rotation=90)\n",
    "plt.show()"
   ]
  },
  {
   "cell_type": "code",
   "execution_count": null,
   "id": "f65d83ba",
   "metadata": {},
   "outputs": [],
   "source": [
    "plt.figure(figsize=(15,15))\n",
    "sns.catplot(x='Has Table booking', kind=\"count\",hue = 'Price range', data=df)\n",
    "plt.xlabel('Has Table booking')\n",
    "plt.xticks(rotation=90)\n",
    "plt.show()"
   ]
  },
  {
   "cell_type": "code",
   "execution_count": null,
   "id": "72146504",
   "metadata": {},
   "outputs": [],
   "source": [
    "plt.figure(figsize=(15,15))\n",
    "sns.catplot(x='Switch to order menu', kind=\"count\",hue = 'Price range', data=df)\n",
    "plt.xlabel(i)\n",
    "plt.xticks(rotation=90)\n",
    "plt.show()"
   ]
  },
  {
   "cell_type": "code",
   "execution_count": null,
   "id": "3b646236",
   "metadata": {},
   "outputs": [],
   "source": [
    "plt.figure(figsize=(15,15))\n",
    "sns.catplot(x='Is delivering now', kind=\"count\",hue = 'Price range', data=df)\n",
    "plt.xlabel(i)\n",
    "plt.xticks(rotation=90)\n",
    "plt.show()"
   ]
  },
  {
   "cell_type": "code",
   "execution_count": null,
   "id": "3a68317c",
   "metadata": {},
   "outputs": [],
   "source": [
    "plt.figure(figsize=(15,15))\n",
    "sns.catplot(x='Has Online delivery', kind=\"count\",hue = 'Price range', data=df)\n",
    "plt.xlabel(i)\n",
    "plt.xticks(rotation=90)\n",
    "plt.show()"
   ]
  },
  {
   "cell_type": "code",
   "execution_count": null,
   "id": "d8b73635",
   "metadata": {},
   "outputs": [],
   "source": [
    "plt.figure(figsize=(15,15))\n",
    "sns.catplot(x='Currency', kind=\"count\",hue = 'Price range', data=df)\n",
    "plt.xlabel(i)\n",
    "plt.xticks(rotation=90)\n",
    "plt.show()"
   ]
  },
  {
   "cell_type": "code",
   "execution_count": null,
   "id": "59bfc75f",
   "metadata": {},
   "outputs": [],
   "source": [
    "plt.figure(figsize=(15,15))\n",
    "sns.catplot(x='Cuisines', kind=\"count\",hue = 'Price range', data=df)\n",
    "plt.xlabel(i)\n",
    "plt.xticks(rotation=90)\n",
    "plt.show()"
   ]
  },
  {
   "cell_type": "code",
   "execution_count": null,
   "id": "eb684307",
   "metadata": {},
   "outputs": [],
   "source": [
    "plt.figure(figsize=(15,15))\n",
    "sns.catplot(x='City', kind=\"count\",hue = 'Price range', data=df)\n",
    "plt.xlabel(i)\n",
    "plt.xticks(rotation=90)\n",
    "plt.show()"
   ]
  },
  {
   "cell_type": "code",
   "execution_count": null,
   "id": "17d17f4e",
   "metadata": {},
   "outputs": [],
   "source": [
    "plt.figure(figsize=(15,15))\n",
    "sns.catplot(x='Country', kind=\"count\",hue = 'Price range', data=df)\n",
    "plt.xlabel(i)\n",
    "plt.xticks(rotation=90)\n",
    "plt.show()"
   ]
  },
  {
   "cell_type": "code",
   "execution_count": null,
   "id": "394c4a39",
   "metadata": {},
   "outputs": [],
   "source": [
    "# Boxplot"
   ]
  },
  {
   "cell_type": "code",
   "execution_count": null,
   "id": "d9104817",
   "metadata": {},
   "outputs": [],
   "source": [
    "cat_columns"
   ]
  },
  {
   "cell_type": "code",
   "execution_count": null,
   "id": "650cac21",
   "metadata": {},
   "outputs": [],
   "source": [
    "cont_columns"
   ]
  },
  {
   "cell_type": "code",
   "execution_count": null,
   "id": "d56df362",
   "metadata": {},
   "outputs": [],
   "source": [
    "df['Price range'].value_counts()"
   ]
  },
  {
   "cell_type": "code",
   "execution_count": null,
   "id": "bd45ddf6",
   "metadata": {},
   "outputs": [],
   "source": [
    "df['Average Cost for two'].sort_values(ascending=False)"
   ]
  },
  {
   "cell_type": "code",
   "execution_count": null,
   "id": "656a26fb",
   "metadata": {},
   "outputs": [],
   "source": [
    "df['Average Cost for two'].value_counts().sort_values()"
   ]
  },
  {
   "cell_type": "code",
   "execution_count": null,
   "id": "8ae49d7a",
   "metadata": {},
   "outputs": [],
   "source": [
    "for i in ['Country', 'City', 'Locality',\n",
    "       'Cuisines', 'Currency', 'Has Table booking',\n",
    "       'Has Online delivery', 'Is delivering now', 'Switch to order menu',\n",
    "       'Rating color', 'Rating text']:\n",
    "    plt.figure(figsize=(15,15))\n",
    "    sns.boxplot(x='Country Code',y=i,hue = 'Price range', data=df)\n",
    "    plt.xlabel('Price range')\n",
    "    plt.xticks(rotation=90)\n",
    "    plt.show()"
   ]
  },
  {
   "cell_type": "code",
   "execution_count": null,
   "id": "f054129b",
   "metadata": {
    "scrolled": true
   },
   "outputs": [],
   "source": [
    "for i in ['Country', 'City', 'Locality',\n",
    "       'Cuisines', 'Currency', 'Has Table booking',\n",
    "       'Has Online delivery', 'Is delivering now', 'Switch to order menu',\n",
    "       'Rating color', 'Rating text']:\n",
    "    plt.figure(figsize=(10,5))\n",
    "    sns.boxplot(x='Country Code',hue = 'Average Cost for two', data=df)\n",
    "    plt.xlabel('Price range')\n",
    "    plt.xticks(rotation=90)\n",
    "    plt.show()"
   ]
  },
  {
   "cell_type": "code",
   "execution_count": null,
   "id": "4fea3dcc",
   "metadata": {},
   "outputs": [],
   "source": [
    "for i in ['Country', 'City', 'Locality',\n",
    "       'Cuisines', 'Currency', 'Has Table booking',\n",
    "       'Has Online delivery', 'Is delivering now', 'Switch to order menu',\n",
    "       'Rating color', 'Rating text']:\n",
    "    plt.figure(figsize=(15,15))\n",
    "    sns.boxplot(x='Country Code',y=i,hue = 'Average Cost for two', data=df)\n",
    "    plt.xlabel('Price range')\n",
    "    plt.xticks(rotation=90)\n",
    "    plt.show()"
   ]
  },
  {
   "cell_type": "code",
   "execution_count": null,
   "id": "5d5b9d60",
   "metadata": {},
   "outputs": [],
   "source": [
    "cont_columns"
   ]
  },
  {
   "cell_type": "code",
   "execution_count": null,
   "id": "3af7fb55",
   "metadata": {},
   "outputs": [],
   "source": [
    "# Violin plot\n",
    "\n",
    "plt.figure(figsize=(30,20))\n",
    "\n",
    "sns.violinplot(x = 'Aggregate rating' , y ='Votes', data = df, hue ='Price range')"
   ]
  },
  {
   "cell_type": "code",
   "execution_count": null,
   "id": "9f45bcb4",
   "metadata": {},
   "outputs": [],
   "source": [
    "# Violin plot\n",
    "\n",
    "plt.figure(figsize=(30,20))\n",
    "\n",
    "sns.violinplot(x = 'Country Code' , y ='Restaurant ID', data = df, hue ='Price range')"
   ]
  },
  {
   "cell_type": "code",
   "execution_count": null,
   "id": "90a6132e",
   "metadata": {},
   "outputs": [],
   "source": [
    "# Violin plot\n",
    "\n",
    "plt.figure(figsize=(30,20))\n",
    "\n",
    "sns.violinplot(x = 'Country Code' , y ='Restaurant ID', data = df, hue ='Price range')"
   ]
  },
  {
   "cell_type": "code",
   "execution_count": null,
   "id": "04d3f613",
   "metadata": {},
   "outputs": [],
   "source": [
    "cont_columns"
   ]
  },
  {
   "cell_type": "code",
   "execution_count": null,
   "id": "f394c6bc",
   "metadata": {},
   "outputs": [],
   "source": [
    "# Swarmplot \n",
    "sns.swarmplot(x = 'Country Code', y ='Average Cost for two', data = df,hue ='Price range', dodge = True)\n",
    "plt.xticks(rotation=90)\n",
    "plt.show()"
   ]
  },
  {
   "cell_type": "code",
   "execution_count": null,
   "id": "2002d4eb",
   "metadata": {},
   "outputs": [],
   "source": [
    "# Scatterplot\n",
    "\n",
    "for i in cont_columns:\n",
    "    plt.figure(figsize=(12,8))\n",
    "    sns.scatterplot(x = i,y=j, data = df,hue='Price range')\n",
    "    plt.xticks(rotation=90)\n",
    "    plt.show()"
   ]
  },
  {
   "cell_type": "code",
   "execution_count": null,
   "id": "aa060446",
   "metadata": {},
   "outputs": [],
   "source": [
    "df_copy = df.copy()"
   ]
  },
  {
   "cell_type": "code",
   "execution_count": null,
   "id": "4a21f94f",
   "metadata": {},
   "outputs": [],
   "source": [
    "df=df_copy.copy()"
   ]
  },
  {
   "cell_type": "code",
   "execution_count": null,
   "id": "de0cbaa5",
   "metadata": {},
   "outputs": [],
   "source": [
    "df.shape[0]"
   ]
  },
  {
   "cell_type": "code",
   "execution_count": null,
   "id": "6f43842e",
   "metadata": {
    "scrolled": true
   },
   "outputs": [],
   "source": [
    "# Using Z Statistics to check and remove any more outliers:\n",
    "\n",
    "from scipy.stats import zscore\n",
    "\n",
    "z_score = zscore(df[cont_columns])\n",
    "\n",
    "abs_z_score = np.abs(z_score)\n",
    "\n",
    "filtering_entry = (abs_z_score < 2.5).all(axis=1) # values lying in 3 times std will be removed\n",
    "\n",
    "df = df[filtering_entry]\n",
    "\n",
    "df.describe()"
   ]
  },
  {
   "cell_type": "code",
   "execution_count": null,
   "id": "52d58242",
   "metadata": {},
   "outputs": [],
   "source": [
    "# Correlation between features and label:\n",
    "\n",
    "# Replacing attrition column values:\n",
    "\n",
    "df.drop(columns = 'Price range',axis = 1).corrwith(df['Price range']).plot(kind='bar',grid=True,figsize=(10,7),title='corelation between features and labels')\n",
    "plt.show()"
   ]
  },
  {
   "cell_type": "code",
   "execution_count": null,
   "id": "f7fe7c26",
   "metadata": {},
   "outputs": [],
   "source": [
    "# Correlation between features and label:\n",
    "\n",
    "# Replacing attrition column values:\n",
    "\n",
    "df.drop(columns = 'Average Cost for two',axis = 1).corrwith(df['Average Cost for two']).plot(kind='bar',grid=True,figsize=(10,7),title='corelation between features and labels')\n",
    "plt.show()"
   ]
  },
  {
   "cell_type": "code",
   "execution_count": null,
   "id": "c350c2df",
   "metadata": {},
   "outputs": [],
   "source": [
    "# Checking relationship between independent and dependent variable:\n",
    "\n",
    "df_corr = df.corr().abs()\n",
    "plt.figure(figsize=(18,14))\n",
    "sns.heatmap(df_corr,annot=True,annot_kws={'size':10})\n",
    "plt.show()"
   ]
  },
  {
   "cell_type": "code",
   "execution_count": null,
   "id": "5eea1745",
   "metadata": {},
   "outputs": [],
   "source": [
    "df.skew().sort_values()"
   ]
  },
  {
   "cell_type": "code",
   "execution_count": null,
   "id": "8f5273dc",
   "metadata": {},
   "outputs": [],
   "source": [
    "from statsmodels.stats.outliers_influence import variance_inflation_factor\n",
    "\n",
    "\n",
    "vif = pd.DataFrame()\n",
    "vif['vif'] = [variance_inflation_factor(df[cont_columns],i) for i in range(df[cont_columns].shape[1])]\n",
    "vif['features'] = df[cont_columns].columns\n",
    "vif"
   ]
  },
  {
   "cell_type": "code",
   "execution_count": null,
   "id": "2500d139",
   "metadata": {},
   "outputs": [],
   "source": [
    "df.drop(columns=['Country Code','Longitude'],axis=1,inplace=True)"
   ]
  },
  {
   "cell_type": "code",
   "execution_count": null,
   "id": "bd1f9fb4",
   "metadata": {},
   "outputs": [],
   "source": [
    "cols = ['Restaurant ID','Latitude','Price range', 'Aggregate rating', 'Votes','Average Cost for two']"
   ]
  },
  {
   "cell_type": "code",
   "execution_count": null,
   "id": "366c9c33",
   "metadata": {},
   "outputs": [],
   "source": [
    "from statsmodels.stats.outliers_influence import variance_inflation_factor\n",
    "\n",
    "vif = pd.DataFrame()\n",
    "vif['vif'] = [variance_inflation_factor(df[cols],i) for i in range(df[cols].shape[1])]\n",
    "vif['features'] = df[cols].columns\n",
    "vif"
   ]
  },
  {
   "cell_type": "code",
   "execution_count": null,
   "id": "84994e89",
   "metadata": {},
   "outputs": [],
   "source": [
    "df.drop(columns=['Price range',],axis=1,inplace=True)"
   ]
  },
  {
   "cell_type": "code",
   "execution_count": null,
   "id": "acba2a5b",
   "metadata": {},
   "outputs": [],
   "source": [
    "df.drop(columns=['Restaurant ID',],axis=1,inplace=True)"
   ]
  },
  {
   "cell_type": "code",
   "execution_count": null,
   "id": "d23e9465",
   "metadata": {},
   "outputs": [],
   "source": [
    "# Splitting data into features and label:\n",
    "\n",
    "y1 = df['Average Cost for two']\n",
    "X1 = df.drop('Average Cost for two',axis=1)"
   ]
  },
  {
   "cell_type": "code",
   "execution_count": null,
   "id": "ce123f09",
   "metadata": {},
   "outputs": [],
   "source": [
    "X1_dum = pd.get_dummies(X1)"
   ]
  },
  {
   "cell_type": "code",
   "execution_count": null,
   "id": "90b19570",
   "metadata": {},
   "outputs": [],
   "source": [
    "X1_dum.shape"
   ]
  },
  {
   "cell_type": "code",
   "execution_count": null,
   "id": "dbb06f50",
   "metadata": {},
   "outputs": [],
   "source": [
    "from sklearn.preprocessing import PowerTransformer\n",
    "\n",
    "pt1 = PowerTransformer()\n",
    "\n",
    "X_trans1 = pt1.fit_transform(X1_dum)"
   ]
  },
  {
   "cell_type": "code",
   "execution_count": null,
   "id": "f9279d7e",
   "metadata": {},
   "outputs": [],
   "source": [
    "# Using SelectKBest feature selection method: # It is one of the feature selection method:\n",
    "# when there are lot of features and you cant graphically analyse , short way , selectKbest can be\n",
    "# used:\n",
    "\n",
    "from sklearn.feature_selection import SelectKBest, f_classif\n",
    "\n",
    "# SelectKBest uses f_classif function to select best features where f_classif uses ANOVA test"
   ]
  },
  {
   "cell_type": "code",
   "execution_count": null,
   "id": "be871eef",
   "metadata": {},
   "outputs": [],
   "source": [
    "best_features1 = SelectKBest(score_func = f_classif,k = 17000)\n",
    "fit1 = best_features1.fit(X_trans1,y1)"
   ]
  },
  {
   "cell_type": "code",
   "execution_count": null,
   "id": "b525fadf",
   "metadata": {},
   "outputs": [],
   "source": [
    "fit1"
   ]
  },
  {
   "cell_type": "code",
   "execution_count": null,
   "id": "59e985c0",
   "metadata": {},
   "outputs": [],
   "source": [
    "data_scores1 = pd.DataFrame(fit1.scores_)"
   ]
  },
  {
   "cell_type": "code",
   "execution_count": null,
   "id": "a7915519",
   "metadata": {},
   "outputs": [],
   "source": [
    "data_scores1"
   ]
  },
  {
   "cell_type": "code",
   "execution_count": null,
   "id": "4cb29d98",
   "metadata": {},
   "outputs": [],
   "source": [
    "print(data_scores1.nlargest(17000,data_scores1.columns),'\\n') # print 7000 best features\n"
   ]
  },
  {
   "cell_type": "code",
   "execution_count": null,
   "id": "9c988daa",
   "metadata": {},
   "outputs": [],
   "source": [
    "# Splitting our data to training data and testing data\n",
    "# x_train,x_test,y_train,y_test\n",
    "\n",
    "x_train,x_test,y_train,y_test = train_test_split(X_trans1,y1,test_size=0.20,random_state=1)\n",
    "\n",
    "# Here we are keeping training data as our scalled data and testing data as our label or target."
   ]
  },
  {
   "cell_type": "code",
   "execution_count": null,
   "id": "ec4ea4a8",
   "metadata": {},
   "outputs": [],
   "source": [
    "# MOdel instantiating and training\n",
    "\n",
    "rm = LinearRegression()\n",
    "rm.fit(x_train,y_train) \n",
    "# here we will pass training data"
   ]
  },
  {
   "cell_type": "code",
   "execution_count": null,
   "id": "fb3c5703",
   "metadata": {},
   "outputs": [],
   "source": [
    "# Testing our model with Adjusted R2 Square: \n",
    "\n",
    "# on training data\n",
    "\n",
    "rm.score(x_train,y_train)"
   ]
  },
  {
   "cell_type": "code",
   "execution_count": null,
   "id": "2664dc31",
   "metadata": {},
   "outputs": [],
   "source": [
    "# PLotting and visualizing\n",
    "\n",
    "y_pred = rm.predict(x_test)"
   ]
  },
  {
   "cell_type": "code",
   "execution_count": null,
   "id": "ff4eb605",
   "metadata": {},
   "outputs": [],
   "source": [
    "plt.scatter(y_test,y_pred)\n",
    "plt.xlabel('Actual Charges')\n",
    "plt.ylabel('Predicted Charges')\n",
    "plt.title('Actual vs Model Predicted')\n",
    "plt.show()"
   ]
  },
  {
   "cell_type": "code",
   "execution_count": null,
   "id": "16d9f846",
   "metadata": {},
   "outputs": [],
   "source": [
    "# Model Evaluation: MAE , MSE , RMSE\n",
    "\n",
    "from sklearn.metrics import mean_absolute_error,mean_squared_error\n",
    "\n",
    "mean_absolute_error(y_test,y_pred) # 4 % error"
   ]
  },
  {
   "cell_type": "code",
   "execution_count": null,
   "id": "b01a3d3b",
   "metadata": {},
   "outputs": [],
   "source": [
    "mean_squared_error(y_test,y_pred) # lesser the better"
   ]
  },
  {
   "cell_type": "code",
   "execution_count": null,
   "id": "3cafd8da",
   "metadata": {},
   "outputs": [],
   "source": [
    "# RMSE\n",
    "np.sqrt(mean_squared_error(y_test,y_pred))"
   ]
  },
  {
   "cell_type": "code",
   "execution_count": null,
   "id": "dd609256",
   "metadata": {},
   "outputs": [],
   "source": [
    "print(\"Score: \", rm.score(x_test, y_test))"
   ]
  },
  {
   "cell_type": "code",
   "execution_count": null,
   "id": "c04f330e",
   "metadata": {},
   "outputs": [],
   "source": [
    "from sklearn.linear_model import Ridge,Lasso,RidgeCV,LassoCV\n",
    "\n",
    "lassocv = LassoCV(alphas = None , max_iter = 100, normalize = True)\n",
    "lassocv.fit(x_train,y_train)"
   ]
  },
  {
   "cell_type": "code",
   "execution_count": null,
   "id": "7eac69e2",
   "metadata": {},
   "outputs": [],
   "source": [
    "# Best alpha parameter\n",
    "alpha = lassocv.alpha_ # Best alpha rate\n",
    "alpha"
   ]
  },
  {
   "cell_type": "code",
   "execution_count": null,
   "id": "64f27b83",
   "metadata": {},
   "outputs": [],
   "source": [
    "# Now since we have the best parameter, lasso regression will be used:\n",
    "lasso_reg = Lasso(alpha)\n",
    "lasso_reg.fit(x_train,y_train)\n",
    "# i.e. when model is training it will learn at this speed 6...."
   ]
  },
  {
   "cell_type": "code",
   "execution_count": null,
   "id": "ae535683",
   "metadata": {},
   "outputs": [],
   "source": [
    "lasso_reg.score(x_test,y_test)"
   ]
  },
  {
   "cell_type": "code",
   "execution_count": null,
   "id": "18610d26",
   "metadata": {},
   "outputs": [],
   "source": [
    "# Ridge Method:\n",
    "\n",
    "ridgecv = RidgeCV(alphas = np.arange(0.001,0.1,0.01),normalize = True)\n",
    "ridgecv.fit(x_train,y_train)"
   ]
  },
  {
   "cell_type": "code",
   "execution_count": null,
   "id": "d63da3eb",
   "metadata": {},
   "outputs": [],
   "source": [
    "ridgecv.alpha_ # Best alpha rate"
   ]
  },
  {
   "cell_type": "code",
   "execution_count": null,
   "id": "48bb7f90",
   "metadata": {},
   "outputs": [],
   "source": [
    "ridge_model = Ridge(alpha = ridgecv.alpha_)\n",
    "ridge_model.fit(x_train,y_train)"
   ]
  },
  {
   "cell_type": "code",
   "execution_count": null,
   "id": "91bb8959",
   "metadata": {},
   "outputs": [],
   "source": [
    "ridge_model.score(x_test,y_test)"
   ]
  },
  {
   "cell_type": "code",
   "execution_count": null,
   "id": "dd547e73",
   "metadata": {},
   "outputs": [],
   "source": [
    "#model performance\n",
    "\n",
    "print(\"MAE: \", metrics.mean_absolute_error(y_test, y_pred))\n",
    "print(\"MSE: \", metrics.mean_squared_error(y_test, y_pred))\n",
    "print(\"RMSE: \", metrics.mean_squared_error(y_test, y_pred, squared=False))\n",
    "print(\"R2: \", metrics.r2_score(y_test, y_pred), \"\\n\")\n",
    "print(\"Score: \", rm.score(x_test, y_test))"
   ]
  },
  {
   "cell_type": "code",
   "execution_count": null,
   "id": "b0c96a14",
   "metadata": {},
   "outputs": [],
   "source": [
    "print(rm.coef_)\n",
    "print(f\"{rm.intercept_:.2f}\")"
   ]
  },
  {
   "cell_type": "code",
   "execution_count": null,
   "id": "e22aaeb6",
   "metadata": {},
   "outputs": [],
   "source": [
    "# Using decision tree:\n",
    "\n",
    "from sklearn.tree import DecisionTreeRegressor\n",
    "\n",
    "model = DecisionTreeRegressor()\n",
    "\n",
    "model.fit(x_train, y_train)\n",
    "\n",
    "y_preddt = model.predict(x_test)\n",
    "\n",
    "r2_score(y_test,y_preddt)\n"
   ]
  },
  {
   "cell_type": "code",
   "execution_count": null,
   "id": "6db8d10d",
   "metadata": {},
   "outputs": [],
   "source": [
    "# Random forest:\n",
    "\n",
    "from sklearn.ensemble import RandomForestRegressor\n",
    "regressor_rf = RandomForestRegressor(n_estimators = 100)\n",
    "\n",
    "regressor_rf.fit(x_train, y_train)\n",
    "\n",
    "lr_normal_rf = regressor_rf.score(x_train, y_train)\n",
    "\n",
    "lr_normal_rf"
   ]
  },
  {
   "cell_type": "code",
   "execution_count": null,
   "id": "fa3d78a4",
   "metadata": {},
   "outputs": [],
   "source": [
    "y_predrf = regressor_rf.predict(x_test)\n",
    "\n",
    "lr_normal_rf_test = regressor_rf.score(x_test, y_test)\n",
    "\n",
    "lr_normal_rf_test\n",
    "\n",
    "mse_lr_normal_rf  = mean_absolute_error(y_test, y_predrf)\n",
    "\n",
    "mse_lr_normal_rf"
   ]
  },
  {
   "cell_type": "code",
   "execution_count": null,
   "id": "3d9d8fa3",
   "metadata": {},
   "outputs": [],
   "source": [
    "# Model Evaluation: MAE , MSE , RMSE\n",
    "\n",
    "from sklearn.metrics import mean_absolute_error,mean_squared_error\n",
    "\n",
    "print(\"MAE: \", metrics.mean_absolute_error(y_test, y_predrf))\n",
    "print(\"MSE: \", metrics.mean_squared_error(y_test, y_predrf))\n",
    "print(\"RMSE: \", metrics.mean_squared_error(y_test, y_predrf, squared=False))\n",
    "print(\"R2: \", metrics.r2_score(y_test, y_predrf), \"\\n\")\n",
    "print(\"Score: \", regressor_rf.score(x_test, y_predrf))"
   ]
  },
  {
   "cell_type": "code",
   "execution_count": null,
   "id": "89eca2da",
   "metadata": {},
   "outputs": [],
   "source": [
    "# Using Support vector regressor:\n",
    "\n",
    "# Fit the model over the training data\n",
    "from sklearn.svm import SVR\n",
    "svr = SVR()\n",
    "svr.fit(x_train, y_train)\n",
    "\n",
    "y_predsvr = svr.predict(x_test)\n",
    "\n",
    "r2_score(y_test,y_predsvr)"
   ]
  },
  {
   "cell_type": "code",
   "execution_count": null,
   "id": "09ebe391",
   "metadata": {},
   "outputs": [],
   "source": [
    "# Using XGBoost:\n",
    "\n",
    "xgb_clf = xgb.XGBRegressor()\n",
    "xgb_clf.fit(x_train,y_train)"
   ]
  },
  {
   "cell_type": "code",
   "execution_count": null,
   "id": "c6fad3fd",
   "metadata": {},
   "outputs": [],
   "source": [
    "# Using XGBoost:\n",
    "\n",
    "xgb_clf = xgb.XGBRegressor()\n",
    "xgb_clf.fit(x_train,y_train)\n",
    "\n",
    "y_predx = xgb_clf.predict(x_test)\n",
    "\n",
    "r2_score(y_test,y_predx)"
   ]
  },
  {
   "cell_type": "code",
   "execution_count": null,
   "id": "6c954a70",
   "metadata": {},
   "outputs": [],
   "source": [
    "# Hyperparameter tuning for xgboost model\n",
    "\n",
    "params = {\"learning_rate\"    : [0.05, 0.10] ,\n",
    "         \"max_depth\"        : [ 3, 5, 8, 12]}\n",
    "\n",
    "grd = GridSearchCV(xgb_clf,param_grid=params)\n",
    "\n",
    "xgb_boosted = grd.fit(x_train,y_train)\n",
    "\n",
    "y_predxx = xgb_boosted.predict(x_test)\n",
    "\n",
    "r2_score(y_test,y_predxx)\n",
    "\n",
    "# Model Evaluation: MAE , MSE , RMSE\n",
    "\n",
    "from sklearn.metrics import mean_absolute_error,mean_squared_error\n",
    "\n",
    "print(\"MAE: \", metrics.mean_absolute_error(y_test, y_predxx))\n",
    "print(\"MSE: \", metrics.mean_squared_error(y_test, y_predxx))\n",
    "print(\"RMSE: \", metrics.mean_squared_error(y_test, y_predxx, squared=False))\n",
    "print(\"R2: \", metrics.r2_score(y_test, y_predxx), \"\\n\")\n",
    "print(\"Score: \", xgb_boosted.score(x_test, y_predxx))"
   ]
  },
  {
   "cell_type": "code",
   "execution_count": null,
   "id": "0493d3b6",
   "metadata": {},
   "outputs": [],
   "source": [
    "# Innitiate k neighbour Regressor:\n",
    "\n",
    "from sklearn.neighbors import KNeighborsRegressor\n",
    "\n",
    "params = {'n_neighbors':[2,3,4,5,6,7,8,9]}\n",
    "\n",
    "knn = KNeighborsRegressor()\n",
    "\n",
    "knnmodel = GridSearchCV(knn, params, cv=5)\n",
    "knnmodel.fit(x_train,y_train)\n",
    "knnmodel.best_params_"
   ]
  },
  {
   "cell_type": "code",
   "execution_count": null,
   "id": "cad2897c",
   "metadata": {},
   "outputs": [],
   "source": [
    "knn_best = KNeighborsRegressor(n_neighbors = 2)\n",
    "knn_best.fit(x_train,y_train)"
   ]
  },
  {
   "cell_type": "code",
   "execution_count": null,
   "id": "c5a3c3c8",
   "metadata": {},
   "outputs": [],
   "source": [
    "y_predknn = knn_best.predict(x_test)\n",
    "\n",
    "r2_score(y_test,y_predknn)"
   ]
  },
  {
   "cell_type": "code",
   "execution_count": null,
   "id": "fc6b6b00",
   "metadata": {},
   "outputs": [],
   "source": [
    "from sklearn.model_selection import GridSearchCV\n",
    "# Create the parameter grid based on the results of random search \n",
    "param_grid = {\n",
    "    'bootstrap': [True],\n",
    "    'max_depth': [80, 90, 100, 110],\n",
    "    'max_features': [2, 3],\n",
    "    'min_samples_leaf': [3, 4, 5],\n",
    "    'min_samples_split': [8, 10, 12],\n",
    "    'n_estimators': [100, 200, 300, 1000]\n",
    "}\n",
    "# Create a based model\n",
    "rf = RandomForestRegressor()\n",
    "# Instantiate the grid search model\n",
    "grid_search = GridSearchCV(estimator = rf, param_grid = param_grid, \n",
    "                          cv = 3, n_jobs = -1, verbose = 2)"
   ]
  },
  {
   "cell_type": "code",
   "execution_count": null,
   "id": "f6fe8956",
   "metadata": {},
   "outputs": [],
   "source": [
    "# Fit the grid search to the data\n",
    "grid_search.fit(x_train, y_train)\n",
    "grid_search.best_params_"
   ]
  },
  {
   "cell_type": "code",
   "execution_count": null,
   "id": "9e21c50b",
   "metadata": {},
   "outputs": [],
   "source": [
    "best_grid = grid_search.best_estimator_\n"
   ]
  },
  {
   "cell_type": "code",
   "execution_count": null,
   "id": "b8ea8d65",
   "metadata": {},
   "outputs": [],
   "source": [
    "base_model1 = RandomForestRegressor(n_estimators = 10, random_state = 42)\n",
    "base_model1.fit(x_train, y_train)"
   ]
  },
  {
   "cell_type": "code",
   "execution_count": null,
   "id": "852e3d28",
   "metadata": {},
   "outputs": [],
   "source": [
    "y_predrf = base_model1.predict(x_test)\n",
    "\n",
    "lr_normal_rf_test = base_model1.score(x_test, y_test)\n",
    "\n",
    "lr_normal_rf_test\n",
    "\n",
    "mse_lr_normal_rf  = mean_absolute_error(y_test, y_predrf)\n",
    "\n",
    "mse_lr_normal_rf"
   ]
  },
  {
   "cell_type": "code",
   "execution_count": null,
   "id": "ac0865d5",
   "metadata": {},
   "outputs": [],
   "source": [
    "# Creating pipeline:\n",
    "\n",
    "from sklearn.pipeline import Pipeline\n",
    "\n",
    "pipe1 = Pipeline([('pt',PowerTransformer()),\n",
    "                  ('pca',PCA(n_components=17000)),('base_model1',RandomForestRegressor(n_estimators = 10, random_state = 42))])\n",
    "\n",
    "pipe1.fit(x_train,y_train)\n",
    "\n",
    "y_pred = pipe.predict(x_test)\n",
    "\n",
    "accuracy_score(y_test,y_pred)\n",
    "\n",
    "# Saving regression model to pickle string\n",
    "\n",
    "import pickle \n",
    "saved_model1 = pickle.dumps(pipe1) \n",
    "pipe_pickle1 = pickle.loads(saved_model1)\n",
    "pipe_pickle1.predict(X_test) # predicting testing data\n",
    "\n"
   ]
  },
  {
   "cell_type": "code",
   "execution_count": null,
   "id": "19e186b4",
   "metadata": {},
   "outputs": [],
   "source": [
    "# Solving classification problem:\n",
    "\n",
    "df1 = df_copy"
   ]
  },
  {
   "cell_type": "code",
   "execution_count": null,
   "id": "11550e3d",
   "metadata": {},
   "outputs": [],
   "source": [
    "df1.drop(columns=['Average Cost for two'],axis=1,inplace=True)"
   ]
  },
  {
   "cell_type": "code",
   "execution_count": null,
   "id": "98fdeb67",
   "metadata": {},
   "outputs": [],
   "source": [
    "\n",
    "df1.columns"
   ]
  },
  {
   "cell_type": "code",
   "execution_count": null,
   "id": "5d1ed06d",
   "metadata": {},
   "outputs": [],
   "source": [
    "# Splitting data into features and label:\n",
    "\n",
    "y = df1['Price range']\n",
    "X_old = df1.drop(['Price range'],axis=1)"
   ]
  },
  {
   "cell_type": "code",
   "execution_count": null,
   "id": "a727213d",
   "metadata": {},
   "outputs": [],
   "source": [
    "X = pd.get_dummies(X_old)"
   ]
  },
  {
   "cell_type": "code",
   "execution_count": null,
   "id": "d6b5f04d",
   "metadata": {},
   "outputs": [],
   "source": [
    "from sklearn.preprocessing import PowerTransformer\n",
    "\n",
    "pt = PowerTransformer()\n",
    "\n",
    "X_trans = pt.fit_transform(X)"
   ]
  },
  {
   "cell_type": "code",
   "execution_count": null,
   "id": "d74f8330",
   "metadata": {},
   "outputs": [],
   "source": [
    "best_features = SelectKBest(score_func = f_classif,k = 17000)\n",
    "fit = best_features.fit(X_trans,y)\n",
    "\n",
    "data_scores = pd.DataFrame(fit.scores_)\n",
    "data_columns = pd.DataFrame(X.columns)\n",
    "\n",
    "features_score = pd.concat([data_columns,data_scores],axis=1)\n",
    "\n",
    "features_score.columns = ['Features','Scores']\n",
    "print(features_score.nlargest(17000,'Scores'),'\\n') # print 7000 best features\n",
    "\n",
    "# Here we are getting top 17000 features we got based on f_classify that uses ANOVA test of statistics."
   ]
  },
  {
   "cell_type": "code",
   "execution_count": null,
   "id": "4e080236",
   "metadata": {},
   "outputs": [],
   "source": [
    "allFeat = features_score.sort_values(by='Scores',ascending=False)"
   ]
  },
  {
   "cell_type": "code",
   "execution_count": null,
   "id": "4347df62",
   "metadata": {},
   "outputs": [],
   "source": [
    "imp_cols = allFeat['Features'][0:17000]"
   ]
  },
  {
   "cell_type": "code",
   "execution_count": null,
   "id": "68194af8",
   "metadata": {},
   "outputs": [],
   "source": [
    "X_trans = X_trans[imp_cols]"
   ]
  },
  {
   "cell_type": "code",
   "execution_count": null,
   "id": "2813c6df",
   "metadata": {},
   "outputs": [],
   "source": [
    "# Splitting our data to training data and testing data\n",
    "# x_train,x_test,y_train,y_test\n",
    "\n",
    "X_train,X_test,y_train,y_test = train_test_split(X_trans,y,test_size=0.20,random_state=1)"
   ]
  },
  {
   "cell_type": "code",
   "execution_count": null,
   "id": "25109703",
   "metadata": {},
   "outputs": [],
   "source": [
    "y.unique()"
   ]
  },
  {
   "cell_type": "code",
   "execution_count": null,
   "id": "066d9e32",
   "metadata": {},
   "outputs": [],
   "source": [
    "from imblearn.over_sampling import SMOTE\n",
    "\n",
    "from sklearn.model_selection import train_test_split\n",
    "\n",
    "print(\"Number transactions X_train dataset: \", X_train.shape)\n",
    "print(\"Number transactions y_train dataset: \", y_train.shape)\n",
    "print(\"Number transactions X_test dataset: \", X_test.shape)\n",
    "print(\"Number transactions y_test dataset: \", y_test.shape)"
   ]
  },
  {
   "cell_type": "code",
   "execution_count": null,
   "id": "f06d9222",
   "metadata": {},
   "outputs": [],
   "source": [
    "print(\"Before OverSampling, counts of label '4': {}\".format(sum(y_train==4)))\n",
    "print(\"Before OverSampling, counts of label '3': {} \\n\".format(sum(y_train==3)))\n",
    "print(\"Before OverSampling, counts of label '2': {}\".format(sum(y_train==2)))\n",
    "print(\"Before OverSampling, counts of label '1': {} \\n\".format(sum(y_train==1)))\n",
    "\n",
    "sm = SMOTE(random_state=2)\n",
    "X_train_res, y_train_res = sm.fit_resample(X_train, y_train.ravel())\n",
    "\n",
    "print('After OverSampling, the shape of train_X: {}'.format(X_train_res.shape))\n",
    "print('After OverSampling, the shape of train_y: {} \\n'.format(y_train_res.shape))\n",
    "\n",
    "print(\"After OverSampling, counts of label '4': {}\".format(sum(y_train_res==4)))\n",
    "print(\"After OverSampling, counts of label '3': {}\".format(sum(y_train_res==3)))\n",
    "print(\"After OverSampling, counts of label '2': {}\".format(sum(y_train_res==2)))\n",
    "print(\"After OverSampling, counts of label '1': {}\".format(sum(y_train_res==1)))"
   ]
  },
  {
   "cell_type": "code",
   "execution_count": null,
   "id": "b65c2760",
   "metadata": {},
   "outputs": [],
   "source": [
    "arr = np.array(y_train_res)\n",
    "\n",
    "un, co = np.unique(arr,return_counts=True)\n",
    "\n",
    "dict(zip(un,co))"
   ]
  },
  {
   "cell_type": "code",
   "execution_count": null,
   "id": "24971486",
   "metadata": {},
   "outputs": [],
   "source": [
    "# Random forrest classifier model:\n",
    "\n",
    "rfc_f = RandomForestClassifier()\n",
    "rfc_f.fit(X_train_res,y_train_res) \n",
    "pred_train_rfc_f = rfc_f.predict(X_train_res)\n",
    "y_pred = rfc_f.predict(X_test)\n",
    "acc = accuracy_score(y_test,y_pred)\n",
    "print('Training accuracy: ', accuracy_score(y_train_res,pred_train_rfc_f)*100)\n",
    "print('Testing accuracy: ', acc*100)\n",
    "confusion_mat = confusion_matrix(y_test,y_pred)\n",
    "print('Confusion matrix: \\n',confusion_mat)\n",
    "clr = classification_report(y_test,y_pred)\n",
    "print('classification report: ' ,clr)"
   ]
  },
  {
   "cell_type": "code",
   "execution_count": null,
   "id": "2df79ee7",
   "metadata": {},
   "outputs": [],
   "source": [
    "# Decision Tree Classifier:\n",
    "\n",
    "dtc = DecisionTreeClassifier(random_state=1)\n",
    "dtc.fit(X_train_res,y_train_res) \n",
    "pred_train_dtc = dtc.predict(X_train_res)\n",
    "y_pred = dtc.predict(X_test)\n",
    "acc = accuracy_score(y_test,y_pred)\n",
    "print('Training accuracy: ', accuracy_score(y_train_res,pred_train_dtc)*100)\n",
    "print('Testing accuracy: ', acc*100)\n",
    "confusion_mat = confusion_matrix(y_test,y_pred)\n",
    "print('Confusion matrix: \\n',confusion_mat)\n",
    "clr = classification_report(y_test,y_pred)\n",
    "print('classification report: ' ,clr)"
   ]
  },
  {
   "cell_type": "code",
   "execution_count": null,
   "id": "157a3ee1",
   "metadata": {},
   "outputs": [],
   "source": [
    "from sklearn.model_selection import KFold , cross_val_score\n",
    "k_f = KFold(n_splits =3)\n",
    "k_f"
   ]
  },
  {
   "cell_type": "code",
   "execution_count": null,
   "id": "b5427d89",
   "metadata": {},
   "outputs": [],
   "source": [
    "for train,test in k_f.split([1,2,3,4,5,6,7,8,9,10]):\n",
    "    print('train:',train,'test:',test)"
   ]
  },
  {
   "cell_type": "code",
   "execution_count": null,
   "id": "a0403eb0",
   "metadata": {},
   "outputs": [],
   "source": [
    "# Cross Validation score to check if model is overfitting:\n",
    "\n",
    "cross_val_score(dtc,X_train_res,y_train_res,cv=5) # "
   ]
  },
  {
   "cell_type": "code",
   "execution_count": null,
   "id": "4618f11c",
   "metadata": {},
   "outputs": [],
   "source": [
    "# SVC model\n",
    "\n",
    "svc = SVC()\n",
    "\n",
    "svc.fit(X_train_res,y_train_res)\n",
    "\n",
    "pred_train_svc = svc.predict(X_train_res)\n",
    "y_pred = svc.predict(X_test)\n",
    "acc = accuracy_score(y_test,y_pred)\n",
    "print('Training accuracy: ', accuracy_score(y_train_res,pred_train_svc)*100)\n",
    "print('Testing accuracy: ', acc*100)\n",
    "confusion_mat = confusion_matrix(y_test,y_pred)\n",
    "print('Confusion matrix: \\n',confusion_mat)\n",
    "clr = classification_report(y_test,y_pred)\n",
    "print('classification report: ' ,clr)"
   ]
  },
  {
   "cell_type": "code",
   "execution_count": null,
   "id": "a7df3f7a",
   "metadata": {},
   "outputs": [],
   "source": [
    "# KNN classifier:\n",
    "\n",
    "knn = KNeighborsClassifier()\n",
    "knn.fit(X_train_res,y_train_res) \n",
    "pred_train_knn = knn.predict(X_train_res)\n",
    "y_pred = knn.predict(X_test)\n",
    "acc = accuracy_score(y_test,y_pred)\n",
    "print('Training accuracy: ', accuracy_score(y_train_res,pred_train_knn)*100)\n",
    "print('Testing accuracy: ', acc*100)"
   ]
  },
  {
   "cell_type": "code",
   "execution_count": null,
   "id": "2e30711a",
   "metadata": {},
   "outputs": [],
   "source": [
    "# Creating pipeline for classification model:\n",
    "\n",
    "from sklearn.pipeline import Pipeline\n",
    "\n",
    "pipe2 = Pipeline([('pt',PowerTransformer()),('pca1',PCA(n_components=12),('dtc',DecisionTreeClassifier(random_state=1)))])\n",
    "\n",
    "pipe2.fit(X_train_res,y_train_res)\n",
    "\n",
    "y_pred = pipe2.predict(X_test)\n",
    "\n",
    "accuracy_score(y_test,y_pred)\n",
    "\n",
    "# Saving classifier model to pickle string\n",
    "\n",
    "import pickle \n",
    "saved_model2 = pickle.dumps(pipe2) \n",
    "pipe_pickle2 = pickle.loads(saved_model2)\n",
    "pipe_pickle2.predict(X_test) # predicting testing data"
   ]
  },
  {
   "cell_type": "code",
   "execution_count": null,
   "id": "9a46f62a",
   "metadata": {},
   "outputs": [],
   "source": []
  },
  {
   "cell_type": "code",
   "execution_count": null,
   "id": "2c627eff",
   "metadata": {},
   "outputs": [],
   "source": []
  }
 ],
 "metadata": {
  "kernelspec": {
   "display_name": "Python 3 (ipykernel)",
   "language": "python",
   "name": "python3"
  },
  "language_info": {
   "codemirror_mode": {
    "name": "ipython",
    "version": 3
   },
   "file_extension": ".py",
   "mimetype": "text/x-python",
   "name": "python",
   "nbconvert_exporter": "python",
   "pygments_lexer": "ipython3",
   "version": "3.9.12"
  }
 },
 "nbformat": 4,
 "nbformat_minor": 5
}
